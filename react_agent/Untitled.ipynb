{
 "cells": [
  {
   "cell_type": "code",
   "execution_count": 1,
   "id": "967496a6-06d5-40cc-9656-b9a2e698aff0",
   "metadata": {},
   "outputs": [
    {
     "data": {
      "text/plain": [
       "True"
      ]
     },
     "execution_count": 1,
     "metadata": {},
     "output_type": "execute_result"
    }
   ],
   "source": [
    "from dotenv import load_dotenv\n",
    "from langchain_openai import ChatOpenAI\n",
    "from langchain_core.tools import tool\n",
    "from langchain_tavily import TavilySearch\n",
    "load_dotenv(override=True)"
   ]
  },
  {
   "cell_type": "markdown",
   "id": "437100e3-3155-4334-9eb9-2a983ef6268c",
   "metadata": {},
   "source": [
    "## Agent State"
   ]
  },
  {
   "cell_type": "code",
   "execution_count": 2,
   "id": "bbf1b9e8-90a7-443d-a130-32b9c24ccab4",
   "metadata": {},
   "outputs": [],
   "source": [
    "from typing import TypedDict, Annotated, Union, List\n",
    "import operator\n",
    "from langchain_core.agents import AgentAction, AgentFinish\n",
    "from langchain_core.messages import BaseMessage, HumanMessage"
   ]
  },
  {
   "cell_type": "code",
   "execution_count": 3,
   "id": "9de68094-ff31-41de-af5a-2aa387d2b8ff",
   "metadata": {},
   "outputs": [],
   "source": [
    "class customState(TypedDict):\n",
    "    messages: Annotated[List[BaseMessage], operator.add]"
   ]
  },
  {
   "cell_type": "code",
   "execution_count": null,
   "id": "c6d9c3ed-b5e0-43ba-afaf-29b3ae919639",
   "metadata": {},
   "outputs": [],
   "source": []
  },
  {
   "cell_type": "markdown",
   "id": "3728f46c-361d-4611-93a6-9f5ce4c4715f",
   "metadata": {},
   "source": [
    "## Function Calling"
   ]
  },
  {
   "cell_type": "code",
   "execution_count": 4,
   "id": "3693caa7-2eb8-49a3-8544-9c1f179b29b1",
   "metadata": {},
   "outputs": [],
   "source": [
    "tavily_search = TavilySearch(max_results =1)"
   ]
  },
  {
   "cell_type": "code",
   "execution_count": 5,
   "id": "785a5ea7-b3cd-4527-b87b-08030bbc4f79",
   "metadata": {},
   "outputs": [],
   "source": [
    "@tool\n",
    "def triple_num(num: float):\n",
    "    \"\"\"\n",
    "    This tool accepts a number, triples it and returns the tripled number\n",
    "    \"\"\"\n",
    "    return num * 3"
   ]
  },
  {
   "cell_type": "code",
   "execution_count": 6,
   "id": "c11eefea-c1f8-4cdb-bacd-6539787d8fff",
   "metadata": {},
   "outputs": [],
   "source": [
    "tools = [tavily_search, triple_num]"
   ]
  },
  {
   "cell_type": "code",
   "execution_count": 7,
   "id": "077e27e5-6d9b-4528-acf9-225d0eab37f7",
   "metadata": {},
   "outputs": [],
   "source": [
    "llm = ChatOpenAI(model=\"gpt-4.1\", temperature = 0.).bind_tools(tools)"
   ]
  },
  {
   "cell_type": "code",
   "execution_count": 8,
   "id": "b03e7521-8e54-4e01-b4cc-237714210981",
   "metadata": {},
   "outputs": [],
   "source": [
    "def reasoning_node(state: customState):\n",
    "    output = llm.invoke(state[\"messages\"])\n",
    "    state[\"messages\"].append(output)\n",
    "    return state"
   ]
  },
  {
   "cell_type": "markdown",
   "id": "8bce4e10-e96b-4417-8f9f-26320852d9c8",
   "metadata": {},
   "source": [
    "#### Testing "
   ]
  },
  {
   "cell_type": "code",
   "execution_count": 9,
   "id": "52efa90f-8451-4682-8499-5d69ecf27413",
   "metadata": {},
   "outputs": [],
   "source": [
    "state_dict = {\"messages\": [HumanMessage(content = \"What is temperature in Tokyo, triple it and return the updated result\")]}\n",
    "state_dict = reasoning_node(state_dict)"
   ]
  },
  {
   "cell_type": "code",
   "execution_count": 10,
   "id": "99bfa020-ca79-4a97-9ab4-2c01f1efdd8e",
   "metadata": {},
   "outputs": [
    {
     "data": {
      "text/plain": [
       "{'messages': [HumanMessage(content='What is temperature in Tokyo, triple it and return the updated result', additional_kwargs={}, response_metadata={}),\n",
       "  AIMessage(content='', additional_kwargs={'tool_calls': [{'id': 'call_9arhHOnoLgL7dHgAil5l3BuN', 'function': {'arguments': '{\"query\":\"current temperature in Tokyo\"}', 'name': 'tavily_search'}, 'type': 'function'}], 'refusal': None}, response_metadata={'token_usage': {'completion_tokens': 19, 'prompt_tokens': 809, 'total_tokens': 828, 'completion_tokens_details': {'accepted_prediction_tokens': 0, 'audio_tokens': 0, 'reasoning_tokens': 0, 'rejected_prediction_tokens': 0}, 'prompt_tokens_details': {'audio_tokens': 0, 'cached_tokens': 0}}, 'model_name': 'gpt-4.1-2025-04-14', 'system_fingerprint': 'fp_799e4ca3f1', 'id': 'chatcmpl-Bomn5k5MfpISt74ZaVY2ukpG8EUGu', 'service_tier': 'default', 'finish_reason': 'tool_calls', 'logprobs': None}, id='run--cb86dcca-d2c6-4e40-b463-838f4787cda6-0', tool_calls=[{'name': 'tavily_search', 'args': {'query': 'current temperature in Tokyo'}, 'id': 'call_9arhHOnoLgL7dHgAil5l3BuN', 'type': 'tool_call'}], usage_metadata={'input_tokens': 809, 'output_tokens': 19, 'total_tokens': 828, 'input_token_details': {'audio': 0, 'cache_read': 0}, 'output_token_details': {'audio': 0, 'reasoning': 0}})]}"
      ]
     },
     "execution_count": 10,
     "metadata": {},
     "output_type": "execute_result"
    }
   ],
   "source": [
    "state_dict#.tool_calls"
   ]
  },
  {
   "cell_type": "code",
   "execution_count": null,
   "id": "af299475-7e1f-4316-950c-09ff8c3f6126",
   "metadata": {},
   "outputs": [],
   "source": []
  },
  {
   "cell_type": "markdown",
   "id": "6e3f480c-e40a-4b68-a72f-6311e0d8d2b6",
   "metadata": {},
   "source": [
    "## Tool Node"
   ]
  },
  {
   "cell_type": "code",
   "execution_count": 11,
   "id": "9a67a43d-4c3d-4955-b1d9-1451eeddd433",
   "metadata": {},
   "outputs": [],
   "source": [
    "from langgraph.prebuilt import ToolNode"
   ]
  },
  {
   "cell_type": "code",
   "execution_count": 12,
   "id": "279ba3b9-75cc-4d88-b45a-3024a5cc1846",
   "metadata": {},
   "outputs": [],
   "source": [
    "tool_node = ToolNode(tools = tools)"
   ]
  },
  {
   "cell_type": "code",
   "execution_count": 13,
   "id": "5290b1e7-c05d-4166-bb6f-181edd659513",
   "metadata": {},
   "outputs": [],
   "source": [
    "def tool_node_handler(state: customState):\n",
    "    output = tool_node.invoke(state[\"messages\"])\n",
    "    state[\"messages\"].append(*output)\n",
    "    return state"
   ]
  },
  {
   "cell_type": "markdown",
   "id": "6d6296a7-af76-4b32-b058-fdb94fa11e0a",
   "metadata": {},
   "source": [
    "#### Testing"
   ]
  },
  {
   "cell_type": "code",
   "execution_count": 14,
   "id": "42ea01b1-a7d6-47a3-ab19-2c52522eab18",
   "metadata": {},
   "outputs": [],
   "source": [
    "state_dict = tool_node_handler(state_dict)"
   ]
  },
  {
   "cell_type": "code",
   "execution_count": 15,
   "id": "24b4edc2-fc6d-46bf-86b5-cc268be2dddc",
   "metadata": {},
   "outputs": [
    {
     "data": {
      "text/plain": [
       "{'messages': [HumanMessage(content='What is temperature in Tokyo, triple it and return the updated result', additional_kwargs={}, response_metadata={}),\n",
       "  AIMessage(content='', additional_kwargs={'tool_calls': [{'id': 'call_9arhHOnoLgL7dHgAil5l3BuN', 'function': {'arguments': '{\"query\":\"current temperature in Tokyo\"}', 'name': 'tavily_search'}, 'type': 'function'}], 'refusal': None}, response_metadata={'token_usage': {'completion_tokens': 19, 'prompt_tokens': 809, 'total_tokens': 828, 'completion_tokens_details': {'accepted_prediction_tokens': 0, 'audio_tokens': 0, 'reasoning_tokens': 0, 'rejected_prediction_tokens': 0}, 'prompt_tokens_details': {'audio_tokens': 0, 'cached_tokens': 0}}, 'model_name': 'gpt-4.1-2025-04-14', 'system_fingerprint': 'fp_799e4ca3f1', 'id': 'chatcmpl-Bomn5k5MfpISt74ZaVY2ukpG8EUGu', 'service_tier': 'default', 'finish_reason': 'tool_calls', 'logprobs': None}, id='run--cb86dcca-d2c6-4e40-b463-838f4787cda6-0', tool_calls=[{'name': 'tavily_search', 'args': {'query': 'current temperature in Tokyo'}, 'id': 'call_9arhHOnoLgL7dHgAil5l3BuN', 'type': 'tool_call'}], usage_metadata={'input_tokens': 809, 'output_tokens': 19, 'total_tokens': 828, 'input_token_details': {'audio': 0, 'cache_read': 0}, 'output_token_details': {'audio': 0, 'reasoning': 0}}),\n",
       "  ToolMessage(content='{\"query\": \"current temperature in Tokyo\", \"follow_up_questions\": null, \"answer\": null, \"images\": [], \"results\": [{\"title\": \"Weather today - Tokyo, Japan\", \"url\": \"https://www.weather-atlas.com/en/japan/tokyo\", \"content\": \"Tokyo, Japan - Current temperature and weather conditions. Detailed hourly weather forecast for today - including weather conditions, temperature, pressure, humidity, precipitation, dewpoint, wind, visibility, and UV index data.\", \"score\": 0.49143207, \"raw_content\": null}], \"response_time\": 1.5}', name='tavily_search', tool_call_id='call_9arhHOnoLgL7dHgAil5l3BuN')]}"
      ]
     },
     "execution_count": 15,
     "metadata": {},
     "output_type": "execute_result"
    }
   ],
   "source": [
    "state_dict"
   ]
  },
  {
   "cell_type": "code",
   "execution_count": 16,
   "id": "221cb72e-999d-4d00-b30a-125aa9ac0cf5",
   "metadata": {},
   "outputs": [],
   "source": [
    "state_dict = reasoning_node(state_dict)"
   ]
  },
  {
   "cell_type": "code",
   "execution_count": 17,
   "id": "edf8bc30-43b1-4912-97f3-b58f4a3fb801",
   "metadata": {},
   "outputs": [
    {
     "data": {
      "text/plain": [
       "{'messages': [HumanMessage(content='What is temperature in Tokyo, triple it and return the updated result', additional_kwargs={}, response_metadata={}),\n",
       "  AIMessage(content='', additional_kwargs={'tool_calls': [{'id': 'call_9arhHOnoLgL7dHgAil5l3BuN', 'function': {'arguments': '{\"query\":\"current temperature in Tokyo\"}', 'name': 'tavily_search'}, 'type': 'function'}], 'refusal': None}, response_metadata={'token_usage': {'completion_tokens': 19, 'prompt_tokens': 809, 'total_tokens': 828, 'completion_tokens_details': {'accepted_prediction_tokens': 0, 'audio_tokens': 0, 'reasoning_tokens': 0, 'rejected_prediction_tokens': 0}, 'prompt_tokens_details': {'audio_tokens': 0, 'cached_tokens': 0}}, 'model_name': 'gpt-4.1-2025-04-14', 'system_fingerprint': 'fp_799e4ca3f1', 'id': 'chatcmpl-Bomn5k5MfpISt74ZaVY2ukpG8EUGu', 'service_tier': 'default', 'finish_reason': 'tool_calls', 'logprobs': None}, id='run--cb86dcca-d2c6-4e40-b463-838f4787cda6-0', tool_calls=[{'name': 'tavily_search', 'args': {'query': 'current temperature in Tokyo'}, 'id': 'call_9arhHOnoLgL7dHgAil5l3BuN', 'type': 'tool_call'}], usage_metadata={'input_tokens': 809, 'output_tokens': 19, 'total_tokens': 828, 'input_token_details': {'audio': 0, 'cache_read': 0}, 'output_token_details': {'audio': 0, 'reasoning': 0}}),\n",
       "  ToolMessage(content='{\"query\": \"current temperature in Tokyo\", \"follow_up_questions\": null, \"answer\": null, \"images\": [], \"results\": [{\"title\": \"Weather today - Tokyo, Japan\", \"url\": \"https://www.weather-atlas.com/en/japan/tokyo\", \"content\": \"Tokyo, Japan - Current temperature and weather conditions. Detailed hourly weather forecast for today - including weather conditions, temperature, pressure, humidity, precipitation, dewpoint, wind, visibility, and UV index data.\", \"score\": 0.49143207, \"raw_content\": null}], \"response_time\": 1.5}', name='tavily_search', tool_call_id='call_9arhHOnoLgL7dHgAil5l3BuN'),\n",
       "  AIMessage(content='', additional_kwargs={'tool_calls': [{'id': 'call_VkTo9hiIdQHtw3Jd1Mn6imjI', 'function': {'arguments': '{\"query\":\"current temperature in Tokyo (in Celsius)\"}', 'name': 'tavily_search'}, 'type': 'function'}], 'refusal': None}, response_metadata={'token_usage': {'completion_tokens': 23, 'prompt_tokens': 965, 'total_tokens': 988, 'completion_tokens_details': {'accepted_prediction_tokens': 0, 'audio_tokens': 0, 'reasoning_tokens': 0, 'rejected_prediction_tokens': 0}, 'prompt_tokens_details': {'audio_tokens': 0, 'cached_tokens': 0}}, 'model_name': 'gpt-4.1-2025-04-14', 'system_fingerprint': 'fp_799e4ca3f1', 'id': 'chatcmpl-BomnqMq0pxh6ZiFxhEabGO0y7Xvuj', 'service_tier': 'default', 'finish_reason': 'tool_calls', 'logprobs': None}, id='run--da0d9fc7-7a70-455f-af32-d58dd4f15394-0', tool_calls=[{'name': 'tavily_search', 'args': {'query': 'current temperature in Tokyo (in Celsius)'}, 'id': 'call_VkTo9hiIdQHtw3Jd1Mn6imjI', 'type': 'tool_call'}], usage_metadata={'input_tokens': 965, 'output_tokens': 23, 'total_tokens': 988, 'input_token_details': {'audio': 0, 'cache_read': 0}, 'output_token_details': {'audio': 0, 'reasoning': 0}})]}"
      ]
     },
     "execution_count": 17,
     "metadata": {},
     "output_type": "execute_result"
    }
   ],
   "source": [
    "state_dict"
   ]
  },
  {
   "cell_type": "code",
   "execution_count": 18,
   "id": "2ce6633c-688a-45d6-870c-ced07e68dae7",
   "metadata": {},
   "outputs": [],
   "source": [
    "state_dict = tool_node_handler(state_dict)"
   ]
  },
  {
   "cell_type": "code",
   "execution_count": 19,
   "id": "b2e7dd36-fdaf-4928-a5bb-6753350a21b1",
   "metadata": {},
   "outputs": [
    {
     "data": {
      "text/plain": [
       "{'messages': [HumanMessage(content='What is temperature in Tokyo, triple it and return the updated result', additional_kwargs={}, response_metadata={}),\n",
       "  AIMessage(content='', additional_kwargs={'tool_calls': [{'id': 'call_9arhHOnoLgL7dHgAil5l3BuN', 'function': {'arguments': '{\"query\":\"current temperature in Tokyo\"}', 'name': 'tavily_search'}, 'type': 'function'}], 'refusal': None}, response_metadata={'token_usage': {'completion_tokens': 19, 'prompt_tokens': 809, 'total_tokens': 828, 'completion_tokens_details': {'accepted_prediction_tokens': 0, 'audio_tokens': 0, 'reasoning_tokens': 0, 'rejected_prediction_tokens': 0}, 'prompt_tokens_details': {'audio_tokens': 0, 'cached_tokens': 0}}, 'model_name': 'gpt-4.1-2025-04-14', 'system_fingerprint': 'fp_799e4ca3f1', 'id': 'chatcmpl-Bomn5k5MfpISt74ZaVY2ukpG8EUGu', 'service_tier': 'default', 'finish_reason': 'tool_calls', 'logprobs': None}, id='run--cb86dcca-d2c6-4e40-b463-838f4787cda6-0', tool_calls=[{'name': 'tavily_search', 'args': {'query': 'current temperature in Tokyo'}, 'id': 'call_9arhHOnoLgL7dHgAil5l3BuN', 'type': 'tool_call'}], usage_metadata={'input_tokens': 809, 'output_tokens': 19, 'total_tokens': 828, 'input_token_details': {'audio': 0, 'cache_read': 0}, 'output_token_details': {'audio': 0, 'reasoning': 0}}),\n",
       "  ToolMessage(content='{\"query\": \"current temperature in Tokyo\", \"follow_up_questions\": null, \"answer\": null, \"images\": [], \"results\": [{\"title\": \"Weather today - Tokyo, Japan\", \"url\": \"https://www.weather-atlas.com/en/japan/tokyo\", \"content\": \"Tokyo, Japan - Current temperature and weather conditions. Detailed hourly weather forecast for today - including weather conditions, temperature, pressure, humidity, precipitation, dewpoint, wind, visibility, and UV index data.\", \"score\": 0.49143207, \"raw_content\": null}], \"response_time\": 1.5}', name='tavily_search', tool_call_id='call_9arhHOnoLgL7dHgAil5l3BuN'),\n",
       "  AIMessage(content='', additional_kwargs={'tool_calls': [{'id': 'call_VkTo9hiIdQHtw3Jd1Mn6imjI', 'function': {'arguments': '{\"query\":\"current temperature in Tokyo (in Celsius)\"}', 'name': 'tavily_search'}, 'type': 'function'}], 'refusal': None}, response_metadata={'token_usage': {'completion_tokens': 23, 'prompt_tokens': 965, 'total_tokens': 988, 'completion_tokens_details': {'accepted_prediction_tokens': 0, 'audio_tokens': 0, 'reasoning_tokens': 0, 'rejected_prediction_tokens': 0}, 'prompt_tokens_details': {'audio_tokens': 0, 'cached_tokens': 0}}, 'model_name': 'gpt-4.1-2025-04-14', 'system_fingerprint': 'fp_799e4ca3f1', 'id': 'chatcmpl-BomnqMq0pxh6ZiFxhEabGO0y7Xvuj', 'service_tier': 'default', 'finish_reason': 'tool_calls', 'logprobs': None}, id='run--da0d9fc7-7a70-455f-af32-d58dd4f15394-0', tool_calls=[{'name': 'tavily_search', 'args': {'query': 'current temperature in Tokyo (in Celsius)'}, 'id': 'call_VkTo9hiIdQHtw3Jd1Mn6imjI', 'type': 'tool_call'}], usage_metadata={'input_tokens': 965, 'output_tokens': 23, 'total_tokens': 988, 'input_token_details': {'audio': 0, 'cache_read': 0}, 'output_token_details': {'audio': 0, 'reasoning': 0}}),\n",
       "  ToolMessage(content='{\"query\": \"current temperature in Tokyo (in Celsius)\", \"follow_up_questions\": null, \"answer\": null, \"images\": [], \"results\": [{\"title\": \"Weather today - Tokyo, Japan\", \"url\": \"https://www.weather-atlas.com/en/japan/tokyo\", \"content\": \"Tokyo, Japan - Current temperature and weather conditions. Detailed hourly weather forecast for today - including weather conditions, temperature, pressure, humidity, precipitation, dewpoint, wind, visibility, and UV index data.\", \"score\": 0.35898256, \"raw_content\": null}], \"response_time\": 1.7}', name='tavily_search', tool_call_id='call_VkTo9hiIdQHtw3Jd1Mn6imjI')]}"
      ]
     },
     "execution_count": 19,
     "metadata": {},
     "output_type": "execute_result"
    }
   ],
   "source": [
    "state_dict"
   ]
  },
  {
   "cell_type": "code",
   "execution_count": 20,
   "id": "78361a27-489b-4896-8499-d0b020c542a2",
   "metadata": {},
   "outputs": [],
   "source": [
    "state_dict = reasoning_node(state_dict)"
   ]
  },
  {
   "cell_type": "code",
   "execution_count": 21,
   "id": "aa36361a-cc8a-4de7-97b4-98483ed26ba0",
   "metadata": {},
   "outputs": [
    {
     "data": {
      "text/plain": [
       "{'messages': [HumanMessage(content='What is temperature in Tokyo, triple it and return the updated result', additional_kwargs={}, response_metadata={}),\n",
       "  AIMessage(content='', additional_kwargs={'tool_calls': [{'id': 'call_9arhHOnoLgL7dHgAil5l3BuN', 'function': {'arguments': '{\"query\":\"current temperature in Tokyo\"}', 'name': 'tavily_search'}, 'type': 'function'}], 'refusal': None}, response_metadata={'token_usage': {'completion_tokens': 19, 'prompt_tokens': 809, 'total_tokens': 828, 'completion_tokens_details': {'accepted_prediction_tokens': 0, 'audio_tokens': 0, 'reasoning_tokens': 0, 'rejected_prediction_tokens': 0}, 'prompt_tokens_details': {'audio_tokens': 0, 'cached_tokens': 0}}, 'model_name': 'gpt-4.1-2025-04-14', 'system_fingerprint': 'fp_799e4ca3f1', 'id': 'chatcmpl-Bomn5k5MfpISt74ZaVY2ukpG8EUGu', 'service_tier': 'default', 'finish_reason': 'tool_calls', 'logprobs': None}, id='run--cb86dcca-d2c6-4e40-b463-838f4787cda6-0', tool_calls=[{'name': 'tavily_search', 'args': {'query': 'current temperature in Tokyo'}, 'id': 'call_9arhHOnoLgL7dHgAil5l3BuN', 'type': 'tool_call'}], usage_metadata={'input_tokens': 809, 'output_tokens': 19, 'total_tokens': 828, 'input_token_details': {'audio': 0, 'cache_read': 0}, 'output_token_details': {'audio': 0, 'reasoning': 0}}),\n",
       "  ToolMessage(content='{\"query\": \"current temperature in Tokyo\", \"follow_up_questions\": null, \"answer\": null, \"images\": [], \"results\": [{\"title\": \"Weather today - Tokyo, Japan\", \"url\": \"https://www.weather-atlas.com/en/japan/tokyo\", \"content\": \"Tokyo, Japan - Current temperature and weather conditions. Detailed hourly weather forecast for today - including weather conditions, temperature, pressure, humidity, precipitation, dewpoint, wind, visibility, and UV index data.\", \"score\": 0.49143207, \"raw_content\": null}], \"response_time\": 1.5}', name='tavily_search', tool_call_id='call_9arhHOnoLgL7dHgAil5l3BuN'),\n",
       "  AIMessage(content='', additional_kwargs={'tool_calls': [{'id': 'call_VkTo9hiIdQHtw3Jd1Mn6imjI', 'function': {'arguments': '{\"query\":\"current temperature in Tokyo (in Celsius)\"}', 'name': 'tavily_search'}, 'type': 'function'}], 'refusal': None}, response_metadata={'token_usage': {'completion_tokens': 23, 'prompt_tokens': 965, 'total_tokens': 988, 'completion_tokens_details': {'accepted_prediction_tokens': 0, 'audio_tokens': 0, 'reasoning_tokens': 0, 'rejected_prediction_tokens': 0}, 'prompt_tokens_details': {'audio_tokens': 0, 'cached_tokens': 0}}, 'model_name': 'gpt-4.1-2025-04-14', 'system_fingerprint': 'fp_799e4ca3f1', 'id': 'chatcmpl-BomnqMq0pxh6ZiFxhEabGO0y7Xvuj', 'service_tier': 'default', 'finish_reason': 'tool_calls', 'logprobs': None}, id='run--da0d9fc7-7a70-455f-af32-d58dd4f15394-0', tool_calls=[{'name': 'tavily_search', 'args': {'query': 'current temperature in Tokyo (in Celsius)'}, 'id': 'call_VkTo9hiIdQHtw3Jd1Mn6imjI', 'type': 'tool_call'}], usage_metadata={'input_tokens': 965, 'output_tokens': 23, 'total_tokens': 988, 'input_token_details': {'audio': 0, 'cache_read': 0}, 'output_token_details': {'audio': 0, 'reasoning': 0}}),\n",
       "  ToolMessage(content='{\"query\": \"current temperature in Tokyo (in Celsius)\", \"follow_up_questions\": null, \"answer\": null, \"images\": [], \"results\": [{\"title\": \"Weather today - Tokyo, Japan\", \"url\": \"https://www.weather-atlas.com/en/japan/tokyo\", \"content\": \"Tokyo, Japan - Current temperature and weather conditions. Detailed hourly weather forecast for today - including weather conditions, temperature, pressure, humidity, precipitation, dewpoint, wind, visibility, and UV index data.\", \"score\": 0.35898256, \"raw_content\": null}], \"response_time\": 1.7}', name='tavily_search', tool_call_id='call_VkTo9hiIdQHtw3Jd1Mn6imjI'),\n",
       "  AIMessage(content='', additional_kwargs={'tool_calls': [{'id': 'call_0c947HHeQRrpCQD9mNMzJjfs', 'function': {'arguments': '{\"query\":\"Tokyo current temperature in Celsius\"}', 'name': 'tavily_search'}, 'type': 'function'}], 'refusal': None}, response_metadata={'token_usage': {'completion_tokens': 20, 'prompt_tokens': 1128, 'total_tokens': 1148, 'completion_tokens_details': {'accepted_prediction_tokens': 0, 'audio_tokens': 0, 'reasoning_tokens': 0, 'rejected_prediction_tokens': 0}, 'prompt_tokens_details': {'audio_tokens': 0, 'cached_tokens': 0}}, 'model_name': 'gpt-4.1-2025-04-14', 'system_fingerprint': 'fp_799e4ca3f1', 'id': 'chatcmpl-BomoYl1bt0GPHLk7VkYt0IQxVpbdA', 'service_tier': 'default', 'finish_reason': 'tool_calls', 'logprobs': None}, id='run--2222b6a2-23ed-43dd-8088-94ca1e543974-0', tool_calls=[{'name': 'tavily_search', 'args': {'query': 'Tokyo current temperature in Celsius'}, 'id': 'call_0c947HHeQRrpCQD9mNMzJjfs', 'type': 'tool_call'}], usage_metadata={'input_tokens': 1128, 'output_tokens': 20, 'total_tokens': 1148, 'input_token_details': {'audio': 0, 'cache_read': 0}, 'output_token_details': {'audio': 0, 'reasoning': 0}})]}"
      ]
     },
     "execution_count": 21,
     "metadata": {},
     "output_type": "execute_result"
    }
   ],
   "source": [
    "state_dict"
   ]
  },
  {
   "cell_type": "code",
   "execution_count": 22,
   "id": "0e17f0c3-5768-47c9-af24-cef42c1cfb1a",
   "metadata": {},
   "outputs": [],
   "source": [
    "state_dict = tool_node_handler(state_dict)"
   ]
  },
  {
   "cell_type": "code",
   "execution_count": 23,
   "id": "1e99cee5-a083-4e51-9d82-8782146644e2",
   "metadata": {},
   "outputs": [
    {
     "data": {
      "text/plain": [
       "{'messages': [HumanMessage(content='What is temperature in Tokyo, triple it and return the updated result', additional_kwargs={}, response_metadata={}),\n",
       "  AIMessage(content='', additional_kwargs={'tool_calls': [{'id': 'call_9arhHOnoLgL7dHgAil5l3BuN', 'function': {'arguments': '{\"query\":\"current temperature in Tokyo\"}', 'name': 'tavily_search'}, 'type': 'function'}], 'refusal': None}, response_metadata={'token_usage': {'completion_tokens': 19, 'prompt_tokens': 809, 'total_tokens': 828, 'completion_tokens_details': {'accepted_prediction_tokens': 0, 'audio_tokens': 0, 'reasoning_tokens': 0, 'rejected_prediction_tokens': 0}, 'prompt_tokens_details': {'audio_tokens': 0, 'cached_tokens': 0}}, 'model_name': 'gpt-4.1-2025-04-14', 'system_fingerprint': 'fp_799e4ca3f1', 'id': 'chatcmpl-Bomn5k5MfpISt74ZaVY2ukpG8EUGu', 'service_tier': 'default', 'finish_reason': 'tool_calls', 'logprobs': None}, id='run--cb86dcca-d2c6-4e40-b463-838f4787cda6-0', tool_calls=[{'name': 'tavily_search', 'args': {'query': 'current temperature in Tokyo'}, 'id': 'call_9arhHOnoLgL7dHgAil5l3BuN', 'type': 'tool_call'}], usage_metadata={'input_tokens': 809, 'output_tokens': 19, 'total_tokens': 828, 'input_token_details': {'audio': 0, 'cache_read': 0}, 'output_token_details': {'audio': 0, 'reasoning': 0}}),\n",
       "  ToolMessage(content='{\"query\": \"current temperature in Tokyo\", \"follow_up_questions\": null, \"answer\": null, \"images\": [], \"results\": [{\"title\": \"Weather today - Tokyo, Japan\", \"url\": \"https://www.weather-atlas.com/en/japan/tokyo\", \"content\": \"Tokyo, Japan - Current temperature and weather conditions. Detailed hourly weather forecast for today - including weather conditions, temperature, pressure, humidity, precipitation, dewpoint, wind, visibility, and UV index data.\", \"score\": 0.49143207, \"raw_content\": null}], \"response_time\": 1.5}', name='tavily_search', tool_call_id='call_9arhHOnoLgL7dHgAil5l3BuN'),\n",
       "  AIMessage(content='', additional_kwargs={'tool_calls': [{'id': 'call_VkTo9hiIdQHtw3Jd1Mn6imjI', 'function': {'arguments': '{\"query\":\"current temperature in Tokyo (in Celsius)\"}', 'name': 'tavily_search'}, 'type': 'function'}], 'refusal': None}, response_metadata={'token_usage': {'completion_tokens': 23, 'prompt_tokens': 965, 'total_tokens': 988, 'completion_tokens_details': {'accepted_prediction_tokens': 0, 'audio_tokens': 0, 'reasoning_tokens': 0, 'rejected_prediction_tokens': 0}, 'prompt_tokens_details': {'audio_tokens': 0, 'cached_tokens': 0}}, 'model_name': 'gpt-4.1-2025-04-14', 'system_fingerprint': 'fp_799e4ca3f1', 'id': 'chatcmpl-BomnqMq0pxh6ZiFxhEabGO0y7Xvuj', 'service_tier': 'default', 'finish_reason': 'tool_calls', 'logprobs': None}, id='run--da0d9fc7-7a70-455f-af32-d58dd4f15394-0', tool_calls=[{'name': 'tavily_search', 'args': {'query': 'current temperature in Tokyo (in Celsius)'}, 'id': 'call_VkTo9hiIdQHtw3Jd1Mn6imjI', 'type': 'tool_call'}], usage_metadata={'input_tokens': 965, 'output_tokens': 23, 'total_tokens': 988, 'input_token_details': {'audio': 0, 'cache_read': 0}, 'output_token_details': {'audio': 0, 'reasoning': 0}}),\n",
       "  ToolMessage(content='{\"query\": \"current temperature in Tokyo (in Celsius)\", \"follow_up_questions\": null, \"answer\": null, \"images\": [], \"results\": [{\"title\": \"Weather today - Tokyo, Japan\", \"url\": \"https://www.weather-atlas.com/en/japan/tokyo\", \"content\": \"Tokyo, Japan - Current temperature and weather conditions. Detailed hourly weather forecast for today - including weather conditions, temperature, pressure, humidity, precipitation, dewpoint, wind, visibility, and UV index data.\", \"score\": 0.35898256, \"raw_content\": null}], \"response_time\": 1.7}', name='tavily_search', tool_call_id='call_VkTo9hiIdQHtw3Jd1Mn6imjI'),\n",
       "  AIMessage(content='', additional_kwargs={'tool_calls': [{'id': 'call_0c947HHeQRrpCQD9mNMzJjfs', 'function': {'arguments': '{\"query\":\"Tokyo current temperature in Celsius\"}', 'name': 'tavily_search'}, 'type': 'function'}], 'refusal': None}, response_metadata={'token_usage': {'completion_tokens': 20, 'prompt_tokens': 1128, 'total_tokens': 1148, 'completion_tokens_details': {'accepted_prediction_tokens': 0, 'audio_tokens': 0, 'reasoning_tokens': 0, 'rejected_prediction_tokens': 0}, 'prompt_tokens_details': {'audio_tokens': 0, 'cached_tokens': 0}}, 'model_name': 'gpt-4.1-2025-04-14', 'system_fingerprint': 'fp_799e4ca3f1', 'id': 'chatcmpl-BomoYl1bt0GPHLk7VkYt0IQxVpbdA', 'service_tier': 'default', 'finish_reason': 'tool_calls', 'logprobs': None}, id='run--2222b6a2-23ed-43dd-8088-94ca1e543974-0', tool_calls=[{'name': 'tavily_search', 'args': {'query': 'Tokyo current temperature in Celsius'}, 'id': 'call_0c947HHeQRrpCQD9mNMzJjfs', 'type': 'tool_call'}], usage_metadata={'input_tokens': 1128, 'output_tokens': 20, 'total_tokens': 1148, 'input_token_details': {'audio': 0, 'cache_read': 0}, 'output_token_details': {'audio': 0, 'reasoning': 0}}),\n",
       "  ToolMessage(content='{\"query\": \"Tokyo current temperature in Celsius\", \"follow_up_questions\": null, \"answer\": null, \"images\": [], \"results\": [{\"title\": \"Tokyo, Tokyo, Japan Current Weather | AccuWeather\", \"url\": \"https://www.accuweather.com/en/jp/tokyo/226396/current-weather/226396\", \"content\": \"Current weather in Tokyo, Tokyo, Japan. Check current conditions in Tokyo, Tokyo, Japan with radar, hourly, and more.\", \"score\": 0.2514551, \"raw_content\": null}], \"response_time\": 1.45}', name='tavily_search', tool_call_id='call_0c947HHeQRrpCQD9mNMzJjfs')]}"
      ]
     },
     "execution_count": 23,
     "metadata": {},
     "output_type": "execute_result"
    }
   ],
   "source": [
    "state_dict"
   ]
  },
  {
   "cell_type": "code",
   "execution_count": 24,
   "id": "e93b8b00-420c-405d-9ab8-cd251afce181",
   "metadata": {},
   "outputs": [],
   "source": [
    "state_dict = reasoning_node(state_dict)"
   ]
  },
  {
   "cell_type": "code",
   "execution_count": 25,
   "id": "deece350-9c81-4e5d-8f2f-382b80d3fa88",
   "metadata": {},
   "outputs": [
    {
     "data": {
      "text/plain": [
       "{'messages': [HumanMessage(content='What is temperature in Tokyo, triple it and return the updated result', additional_kwargs={}, response_metadata={}),\n",
       "  AIMessage(content='', additional_kwargs={'tool_calls': [{'id': 'call_9arhHOnoLgL7dHgAil5l3BuN', 'function': {'arguments': '{\"query\":\"current temperature in Tokyo\"}', 'name': 'tavily_search'}, 'type': 'function'}], 'refusal': None}, response_metadata={'token_usage': {'completion_tokens': 19, 'prompt_tokens': 809, 'total_tokens': 828, 'completion_tokens_details': {'accepted_prediction_tokens': 0, 'audio_tokens': 0, 'reasoning_tokens': 0, 'rejected_prediction_tokens': 0}, 'prompt_tokens_details': {'audio_tokens': 0, 'cached_tokens': 0}}, 'model_name': 'gpt-4.1-2025-04-14', 'system_fingerprint': 'fp_799e4ca3f1', 'id': 'chatcmpl-Bomn5k5MfpISt74ZaVY2ukpG8EUGu', 'service_tier': 'default', 'finish_reason': 'tool_calls', 'logprobs': None}, id='run--cb86dcca-d2c6-4e40-b463-838f4787cda6-0', tool_calls=[{'name': 'tavily_search', 'args': {'query': 'current temperature in Tokyo'}, 'id': 'call_9arhHOnoLgL7dHgAil5l3BuN', 'type': 'tool_call'}], usage_metadata={'input_tokens': 809, 'output_tokens': 19, 'total_tokens': 828, 'input_token_details': {'audio': 0, 'cache_read': 0}, 'output_token_details': {'audio': 0, 'reasoning': 0}}),\n",
       "  ToolMessage(content='{\"query\": \"current temperature in Tokyo\", \"follow_up_questions\": null, \"answer\": null, \"images\": [], \"results\": [{\"title\": \"Weather today - Tokyo, Japan\", \"url\": \"https://www.weather-atlas.com/en/japan/tokyo\", \"content\": \"Tokyo, Japan - Current temperature and weather conditions. Detailed hourly weather forecast for today - including weather conditions, temperature, pressure, humidity, precipitation, dewpoint, wind, visibility, and UV index data.\", \"score\": 0.49143207, \"raw_content\": null}], \"response_time\": 1.5}', name='tavily_search', tool_call_id='call_9arhHOnoLgL7dHgAil5l3BuN'),\n",
       "  AIMessage(content='', additional_kwargs={'tool_calls': [{'id': 'call_VkTo9hiIdQHtw3Jd1Mn6imjI', 'function': {'arguments': '{\"query\":\"current temperature in Tokyo (in Celsius)\"}', 'name': 'tavily_search'}, 'type': 'function'}], 'refusal': None}, response_metadata={'token_usage': {'completion_tokens': 23, 'prompt_tokens': 965, 'total_tokens': 988, 'completion_tokens_details': {'accepted_prediction_tokens': 0, 'audio_tokens': 0, 'reasoning_tokens': 0, 'rejected_prediction_tokens': 0}, 'prompt_tokens_details': {'audio_tokens': 0, 'cached_tokens': 0}}, 'model_name': 'gpt-4.1-2025-04-14', 'system_fingerprint': 'fp_799e4ca3f1', 'id': 'chatcmpl-BomnqMq0pxh6ZiFxhEabGO0y7Xvuj', 'service_tier': 'default', 'finish_reason': 'tool_calls', 'logprobs': None}, id='run--da0d9fc7-7a70-455f-af32-d58dd4f15394-0', tool_calls=[{'name': 'tavily_search', 'args': {'query': 'current temperature in Tokyo (in Celsius)'}, 'id': 'call_VkTo9hiIdQHtw3Jd1Mn6imjI', 'type': 'tool_call'}], usage_metadata={'input_tokens': 965, 'output_tokens': 23, 'total_tokens': 988, 'input_token_details': {'audio': 0, 'cache_read': 0}, 'output_token_details': {'audio': 0, 'reasoning': 0}}),\n",
       "  ToolMessage(content='{\"query\": \"current temperature in Tokyo (in Celsius)\", \"follow_up_questions\": null, \"answer\": null, \"images\": [], \"results\": [{\"title\": \"Weather today - Tokyo, Japan\", \"url\": \"https://www.weather-atlas.com/en/japan/tokyo\", \"content\": \"Tokyo, Japan - Current temperature and weather conditions. Detailed hourly weather forecast for today - including weather conditions, temperature, pressure, humidity, precipitation, dewpoint, wind, visibility, and UV index data.\", \"score\": 0.35898256, \"raw_content\": null}], \"response_time\": 1.7}', name='tavily_search', tool_call_id='call_VkTo9hiIdQHtw3Jd1Mn6imjI'),\n",
       "  AIMessage(content='', additional_kwargs={'tool_calls': [{'id': 'call_0c947HHeQRrpCQD9mNMzJjfs', 'function': {'arguments': '{\"query\":\"Tokyo current temperature in Celsius\"}', 'name': 'tavily_search'}, 'type': 'function'}], 'refusal': None}, response_metadata={'token_usage': {'completion_tokens': 20, 'prompt_tokens': 1128, 'total_tokens': 1148, 'completion_tokens_details': {'accepted_prediction_tokens': 0, 'audio_tokens': 0, 'reasoning_tokens': 0, 'rejected_prediction_tokens': 0}, 'prompt_tokens_details': {'audio_tokens': 0, 'cached_tokens': 0}}, 'model_name': 'gpt-4.1-2025-04-14', 'system_fingerprint': 'fp_799e4ca3f1', 'id': 'chatcmpl-BomoYl1bt0GPHLk7VkYt0IQxVpbdA', 'service_tier': 'default', 'finish_reason': 'tool_calls', 'logprobs': None}, id='run--2222b6a2-23ed-43dd-8088-94ca1e543974-0', tool_calls=[{'name': 'tavily_search', 'args': {'query': 'Tokyo current temperature in Celsius'}, 'id': 'call_0c947HHeQRrpCQD9mNMzJjfs', 'type': 'tool_call'}], usage_metadata={'input_tokens': 1128, 'output_tokens': 20, 'total_tokens': 1148, 'input_token_details': {'audio': 0, 'cache_read': 0}, 'output_token_details': {'audio': 0, 'reasoning': 0}}),\n",
       "  ToolMessage(content='{\"query\": \"Tokyo current temperature in Celsius\", \"follow_up_questions\": null, \"answer\": null, \"images\": [], \"results\": [{\"title\": \"Tokyo, Tokyo, Japan Current Weather | AccuWeather\", \"url\": \"https://www.accuweather.com/en/jp/tokyo/226396/current-weather/226396\", \"content\": \"Current weather in Tokyo, Tokyo, Japan. Check current conditions in Tokyo, Tokyo, Japan with radar, hourly, and more.\", \"score\": 0.2514551, \"raw_content\": null}], \"response_time\": 1.45}', name='tavily_search', tool_call_id='call_0c947HHeQRrpCQD9mNMzJjfs'),\n",
       "  AIMessage(content='', additional_kwargs={'tool_calls': [{'id': 'call_AX7JlbZdfhEiyctclwRlMvYb', 'function': {'arguments': '{\"query\":\"Tokyo current temperature in Celsius right now\"}', 'name': 'tavily_search'}, 'type': 'function'}], 'refusal': None}, response_metadata={'token_usage': {'completion_tokens': 22, 'prompt_tokens': 1284, 'total_tokens': 1306, 'completion_tokens_details': {'accepted_prediction_tokens': 0, 'audio_tokens': 0, 'reasoning_tokens': 0, 'rejected_prediction_tokens': 0}, 'prompt_tokens_details': {'audio_tokens': 0, 'cached_tokens': 0}}, 'model_name': 'gpt-4.1-2025-04-14', 'system_fingerprint': 'fp_799e4ca3f1', 'id': 'chatcmpl-Bomq3HziRSWmjPVLgBINMKQfYhW55', 'service_tier': 'default', 'finish_reason': 'tool_calls', 'logprobs': None}, id='run--29f80c20-e9a7-4d0e-88a4-5b29a5cc87a0-0', tool_calls=[{'name': 'tavily_search', 'args': {'query': 'Tokyo current temperature in Celsius right now'}, 'id': 'call_AX7JlbZdfhEiyctclwRlMvYb', 'type': 'tool_call'}], usage_metadata={'input_tokens': 1284, 'output_tokens': 22, 'total_tokens': 1306, 'input_token_details': {'audio': 0, 'cache_read': 0}, 'output_token_details': {'audio': 0, 'reasoning': 0}})]}"
      ]
     },
     "execution_count": 25,
     "metadata": {},
     "output_type": "execute_result"
    }
   ],
   "source": [
    "state_dict"
   ]
  },
  {
   "cell_type": "markdown",
   "id": "f5f6db6a-fef1-4fba-a199-f61b827df5cc",
   "metadata": {},
   "source": [
    "## Nodes"
   ]
  },
  {
   "cell_type": "code",
   "execution_count": 29,
   "id": "3fc34fa4-9ade-4159-b2ea-6370ef45fe46",
   "metadata": {},
   "outputs": [],
   "source": [
    "from langgraph.prebuilt import ToolNode"
   ]
  },
  {
   "cell_type": "code",
   "execution_count": 30,
   "id": "02332f8d-d1d2-41ee-804f-728d2c3ce025",
   "metadata": {},
   "outputs": [
    {
     "ename": "KeyError",
     "evalue": "\"Input to PromptTemplate is missing variables {'tools', 'tool_names', 'agent_scratchpad', 'input'}.  Expected: ['agent_scratchpad', 'input', 'tool_names', 'tools'] Received: ['messages', 'is_last_step', 'remaining_steps']\\nNote: if you intended {tools} to be part of the string and not a variable, please escape it with double curly braces like: '{{tools}}'.\\nFor troubleshooting, visit: https://python.langchain.com/docs/troubleshooting/errors/INVALID_PROMPT_INPUT \"",
     "output_type": "error",
     "traceback": [
      "\u001b[31m---------------------------------------------------------------------------\u001b[39m",
      "\u001b[31mKeyError\u001b[39m                                  Traceback (most recent call last)",
      "\u001b[36mCell\u001b[39m\u001b[36m \u001b[39m\u001b[32mIn[30]\u001b[39m\u001b[32m, line 1\u001b[39m\n\u001b[32m----> \u001b[39m\u001b[32m1\u001b[39m \u001b[43magent\u001b[49m\u001b[43m.\u001b[49m\u001b[43minvoke\u001b[49m\u001b[43m(\u001b[49m\u001b[43m{\u001b[49m\u001b[33;43m\"\u001b[39;49m\u001b[33;43minput\u001b[39;49m\u001b[33;43m\"\u001b[39;49m\u001b[43m \u001b[49m\u001b[43m:\u001b[49m\u001b[43m \u001b[49m\u001b[33;43m\"\u001b[39;49m\u001b[33;43mWhat is agent Memory\u001b[39;49m\u001b[33;43m\"\u001b[39;49m\u001b[43m}\u001b[49m\u001b[43m)\u001b[49m\n",
      "\u001b[36mFile \u001b[39m\u001b[32m~/Library/CloudStorage/OneDrive-DeutscheTelekomAG/Projects/COE_Projects/langgraph_course_1/.venv/lib/python3.13/site-packages/langgraph/pregel/__init__.py:2719\u001b[39m, in \u001b[36mPregel.invoke\u001b[39m\u001b[34m(self, input, config, stream_mode, output_keys, interrupt_before, interrupt_after, checkpoint_during, debug, **kwargs)\u001b[39m\n\u001b[32m   2716\u001b[39m chunks: \u001b[38;5;28mlist\u001b[39m[Union[\u001b[38;5;28mdict\u001b[39m[\u001b[38;5;28mstr\u001b[39m, Any], Any]] = []\n\u001b[32m   2717\u001b[39m interrupts: \u001b[38;5;28mlist\u001b[39m[Interrupt] = []\n\u001b[32m-> \u001b[39m\u001b[32m2719\u001b[39m \u001b[43m\u001b[49m\u001b[38;5;28;43;01mfor\u001b[39;49;00m\u001b[43m \u001b[49m\u001b[43mchunk\u001b[49m\u001b[43m \u001b[49m\u001b[38;5;129;43;01min\u001b[39;49;00m\u001b[43m \u001b[49m\u001b[38;5;28;43mself\u001b[39;49m\u001b[43m.\u001b[49m\u001b[43mstream\u001b[49m\u001b[43m(\u001b[49m\n\u001b[32m   2720\u001b[39m \u001b[43m    \u001b[49m\u001b[38;5;28;43minput\u001b[39;49m\u001b[43m,\u001b[49m\n\u001b[32m   2721\u001b[39m \u001b[43m    \u001b[49m\u001b[43mconfig\u001b[49m\u001b[43m,\u001b[49m\n\u001b[32m   2722\u001b[39m \u001b[43m    \u001b[49m\u001b[43mstream_mode\u001b[49m\u001b[43m=\u001b[49m\u001b[43mstream_mode\u001b[49m\u001b[43m,\u001b[49m\n\u001b[32m   2723\u001b[39m \u001b[43m    \u001b[49m\u001b[43moutput_keys\u001b[49m\u001b[43m=\u001b[49m\u001b[43moutput_keys\u001b[49m\u001b[43m,\u001b[49m\n\u001b[32m   2724\u001b[39m \u001b[43m    \u001b[49m\u001b[43minterrupt_before\u001b[49m\u001b[43m=\u001b[49m\u001b[43minterrupt_before\u001b[49m\u001b[43m,\u001b[49m\n\u001b[32m   2725\u001b[39m \u001b[43m    \u001b[49m\u001b[43minterrupt_after\u001b[49m\u001b[43m=\u001b[49m\u001b[43minterrupt_after\u001b[49m\u001b[43m,\u001b[49m\n\u001b[32m   2726\u001b[39m \u001b[43m    \u001b[49m\u001b[43mcheckpoint_during\u001b[49m\u001b[43m=\u001b[49m\u001b[43mcheckpoint_during\u001b[49m\u001b[43m,\u001b[49m\n\u001b[32m   2727\u001b[39m \u001b[43m    \u001b[49m\u001b[43mdebug\u001b[49m\u001b[43m=\u001b[49m\u001b[43mdebug\u001b[49m\u001b[43m,\u001b[49m\n\u001b[32m   2728\u001b[39m \u001b[43m    \u001b[49m\u001b[43m*\u001b[49m\u001b[43m*\u001b[49m\u001b[43mkwargs\u001b[49m\u001b[43m,\u001b[49m\n\u001b[32m   2729\u001b[39m \u001b[43m\u001b[49m\u001b[43m)\u001b[49m\u001b[43m:\u001b[49m\n\u001b[32m   2730\u001b[39m \u001b[43m    \u001b[49m\u001b[38;5;28;43;01mif\u001b[39;49;00m\u001b[43m \u001b[49m\u001b[43mstream_mode\u001b[49m\u001b[43m \u001b[49m\u001b[43m==\u001b[49m\u001b[43m \u001b[49m\u001b[33;43m\"\u001b[39;49m\u001b[33;43mvalues\u001b[39;49m\u001b[33;43m\"\u001b[39;49m\u001b[43m:\u001b[49m\n\u001b[32m   2731\u001b[39m \u001b[43m        \u001b[49m\u001b[38;5;28;43;01mif\u001b[39;49;00m\u001b[43m \u001b[49m\u001b[43m(\u001b[49m\n\u001b[32m   2732\u001b[39m \u001b[43m            \u001b[49m\u001b[38;5;28;43misinstance\u001b[39;49m\u001b[43m(\u001b[49m\u001b[43mchunk\u001b[49m\u001b[43m,\u001b[49m\u001b[43m \u001b[49m\u001b[38;5;28;43mdict\u001b[39;49m\u001b[43m)\u001b[49m\n\u001b[32m   2733\u001b[39m \u001b[43m            \u001b[49m\u001b[38;5;129;43;01mand\u001b[39;49;00m\u001b[43m \u001b[49m\u001b[43m(\u001b[49m\u001b[43mints\u001b[49m\u001b[43m \u001b[49m\u001b[43m:=\u001b[49m\u001b[43m \u001b[49m\u001b[43mchunk\u001b[49m\u001b[43m.\u001b[49m\u001b[43mget\u001b[49m\u001b[43m(\u001b[49m\u001b[43mINTERRUPT\u001b[49m\u001b[43m)\u001b[49m\u001b[43m)\u001b[49m\u001b[43m \u001b[49m\u001b[38;5;129;43;01mis\u001b[39;49;00m\u001b[43m \u001b[49m\u001b[38;5;129;43;01mnot\u001b[39;49;00m\u001b[43m \u001b[49m\u001b[38;5;28;43;01mNone\u001b[39;49;00m\n\u001b[32m   2734\u001b[39m \u001b[43m        \u001b[49m\u001b[43m)\u001b[49m\u001b[43m:\u001b[49m\n",
      "\u001b[36mFile \u001b[39m\u001b[32m~/Library/CloudStorage/OneDrive-DeutscheTelekomAG/Projects/COE_Projects/langgraph_course_1/.venv/lib/python3.13/site-packages/langgraph/pregel/__init__.py:2436\u001b[39m, in \u001b[36mPregel.stream\u001b[39m\u001b[34m(self, input, config, stream_mode, output_keys, interrupt_before, interrupt_after, checkpoint_during, debug, subgraphs)\u001b[39m\n\u001b[32m   2434\u001b[39m         \u001b[38;5;28;01mfor\u001b[39;00m task \u001b[38;5;129;01min\u001b[39;00m loop.match_cached_writes():\n\u001b[32m   2435\u001b[39m             loop.output_writes(task.id, task.writes, cached=\u001b[38;5;28;01mTrue\u001b[39;00m)\n\u001b[32m-> \u001b[39m\u001b[32m2436\u001b[39m \u001b[43m        \u001b[49m\u001b[38;5;28;43;01mfor\u001b[39;49;00m\u001b[43m \u001b[49m\u001b[43m_\u001b[49m\u001b[43m \u001b[49m\u001b[38;5;129;43;01min\u001b[39;49;00m\u001b[43m \u001b[49m\u001b[43mrunner\u001b[49m\u001b[43m.\u001b[49m\u001b[43mtick\u001b[49m\u001b[43m(\u001b[49m\n\u001b[32m   2437\u001b[39m \u001b[43m            \u001b[49m\u001b[43m[\u001b[49m\u001b[43mt\u001b[49m\u001b[43m \u001b[49m\u001b[38;5;28;43;01mfor\u001b[39;49;00m\u001b[43m \u001b[49m\u001b[43mt\u001b[49m\u001b[43m \u001b[49m\u001b[38;5;129;43;01min\u001b[39;49;00m\u001b[43m \u001b[49m\u001b[43mloop\u001b[49m\u001b[43m.\u001b[49m\u001b[43mtasks\u001b[49m\u001b[43m.\u001b[49m\u001b[43mvalues\u001b[49m\u001b[43m(\u001b[49m\u001b[43m)\u001b[49m\u001b[43m \u001b[49m\u001b[38;5;28;43;01mif\u001b[39;49;00m\u001b[43m \u001b[49m\u001b[38;5;129;43;01mnot\u001b[39;49;00m\u001b[43m \u001b[49m\u001b[43mt\u001b[49m\u001b[43m.\u001b[49m\u001b[43mwrites\u001b[49m\u001b[43m]\u001b[49m\u001b[43m,\u001b[49m\n\u001b[32m   2438\u001b[39m \u001b[43m            \u001b[49m\u001b[43mtimeout\u001b[49m\u001b[43m=\u001b[49m\u001b[38;5;28;43mself\u001b[39;49m\u001b[43m.\u001b[49m\u001b[43mstep_timeout\u001b[49m\u001b[43m,\u001b[49m\n\u001b[32m   2439\u001b[39m \u001b[43m            \u001b[49m\u001b[43mget_waiter\u001b[49m\u001b[43m=\u001b[49m\u001b[43mget_waiter\u001b[49m\u001b[43m,\u001b[49m\n\u001b[32m   2440\u001b[39m \u001b[43m            \u001b[49m\u001b[43mschedule_task\u001b[49m\u001b[43m=\u001b[49m\u001b[43mloop\u001b[49m\u001b[43m.\u001b[49m\u001b[43maccept_push\u001b[49m\u001b[43m,\u001b[49m\n\u001b[32m   2441\u001b[39m \u001b[43m        \u001b[49m\u001b[43m)\u001b[49m\u001b[43m:\u001b[49m\n\u001b[32m   2442\u001b[39m \u001b[43m            \u001b[49m\u001b[38;5;66;43;03m# emit output\u001b[39;49;00m\n\u001b[32m   2443\u001b[39m \u001b[43m            \u001b[49m\u001b[38;5;28;43;01myield from\u001b[39;49;00m\u001b[43m \u001b[49m\u001b[43moutput\u001b[49m\u001b[43m(\u001b[49m\u001b[43m)\u001b[49m\n\u001b[32m   2444\u001b[39m \u001b[38;5;66;03m# emit output\u001b[39;00m\n",
      "\u001b[36mFile \u001b[39m\u001b[32m~/Library/CloudStorage/OneDrive-DeutscheTelekomAG/Projects/COE_Projects/langgraph_course_1/.venv/lib/python3.13/site-packages/langgraph/prebuilt/chat_agent_executor.py:505\u001b[39m, in \u001b[36mcreate_react_agent.<locals>.call_model\u001b[39m\u001b[34m(state, config)\u001b[39m\n\u001b[32m    503\u001b[39m \u001b[38;5;28;01mdef\u001b[39;00m\u001b[38;5;250m \u001b[39m\u001b[34mcall_model\u001b[39m(state: StateSchema, config: RunnableConfig) -> StateSchema:\n\u001b[32m    504\u001b[39m     state = _get_model_input_state(state)\n\u001b[32m--> \u001b[39m\u001b[32m505\u001b[39m     response = cast(AIMessage, \u001b[43mmodel_runnable\u001b[49m\u001b[43m.\u001b[49m\u001b[43minvoke\u001b[49m\u001b[43m(\u001b[49m\u001b[43mstate\u001b[49m\u001b[43m,\u001b[49m\u001b[43m \u001b[49m\u001b[43mconfig\u001b[49m\u001b[43m)\u001b[49m)\n\u001b[32m    506\u001b[39m     \u001b[38;5;66;03m# add agent name to the AIMessage\u001b[39;00m\n\u001b[32m    507\u001b[39m     response.name = name\n",
      "\u001b[36mFile \u001b[39m\u001b[32m~/Library/CloudStorage/OneDrive-DeutscheTelekomAG/Projects/COE_Projects/langgraph_course_1/.venv/lib/python3.13/site-packages/langchain_core/runnables/base.py:3045\u001b[39m, in \u001b[36mRunnableSequence.invoke\u001b[39m\u001b[34m(self, input, config, **kwargs)\u001b[39m\n\u001b[32m   3043\u001b[39m \u001b[38;5;28;01mwith\u001b[39;00m set_config_context(config) \u001b[38;5;28;01mas\u001b[39;00m context:\n\u001b[32m   3044\u001b[39m     \u001b[38;5;28;01mif\u001b[39;00m i == \u001b[32m0\u001b[39m:\n\u001b[32m-> \u001b[39m\u001b[32m3045\u001b[39m         input_ = \u001b[43mcontext\u001b[49m\u001b[43m.\u001b[49m\u001b[43mrun\u001b[49m\u001b[43m(\u001b[49m\u001b[43mstep\u001b[49m\u001b[43m.\u001b[49m\u001b[43minvoke\u001b[49m\u001b[43m,\u001b[49m\u001b[43m \u001b[49m\u001b[43minput_\u001b[49m\u001b[43m,\u001b[49m\u001b[43m \u001b[49m\u001b[43mconfig\u001b[49m\u001b[43m,\u001b[49m\u001b[43m \u001b[49m\u001b[43m*\u001b[49m\u001b[43m*\u001b[49m\u001b[43mkwargs\u001b[49m\u001b[43m)\u001b[49m\n\u001b[32m   3046\u001b[39m     \u001b[38;5;28;01melse\u001b[39;00m:\n\u001b[32m   3047\u001b[39m         input_ = context.run(step.invoke, input_, config)\n",
      "\u001b[36mFile \u001b[39m\u001b[32m~/Library/CloudStorage/OneDrive-DeutscheTelekomAG/Projects/COE_Projects/langgraph_course_1/.venv/lib/python3.13/site-packages/langchain_core/prompts/base.py:216\u001b[39m, in \u001b[36mBasePromptTemplate.invoke\u001b[39m\u001b[34m(self, input, config, **kwargs)\u001b[39m\n\u001b[32m    214\u001b[39m \u001b[38;5;28;01mif\u001b[39;00m \u001b[38;5;28mself\u001b[39m.tags:\n\u001b[32m    215\u001b[39m     config[\u001b[33m\"\u001b[39m\u001b[33mtags\u001b[39m\u001b[33m\"\u001b[39m] = config[\u001b[33m\"\u001b[39m\u001b[33mtags\u001b[39m\u001b[33m\"\u001b[39m] + \u001b[38;5;28mself\u001b[39m.tags\n\u001b[32m--> \u001b[39m\u001b[32m216\u001b[39m \u001b[38;5;28;01mreturn\u001b[39;00m \u001b[38;5;28;43mself\u001b[39;49m\u001b[43m.\u001b[49m\u001b[43m_call_with_config\u001b[49m\u001b[43m(\u001b[49m\n\u001b[32m    217\u001b[39m \u001b[43m    \u001b[49m\u001b[38;5;28;43mself\u001b[39;49m\u001b[43m.\u001b[49m\u001b[43m_format_prompt_with_error_handling\u001b[49m\u001b[43m,\u001b[49m\n\u001b[32m    218\u001b[39m \u001b[43m    \u001b[49m\u001b[38;5;28;43minput\u001b[39;49m\u001b[43m,\u001b[49m\n\u001b[32m    219\u001b[39m \u001b[43m    \u001b[49m\u001b[43mconfig\u001b[49m\u001b[43m,\u001b[49m\n\u001b[32m    220\u001b[39m \u001b[43m    \u001b[49m\u001b[43mrun_type\u001b[49m\u001b[43m=\u001b[49m\u001b[33;43m\"\u001b[39;49m\u001b[33;43mprompt\u001b[39;49m\u001b[33;43m\"\u001b[39;49m\u001b[43m,\u001b[49m\n\u001b[32m    221\u001b[39m \u001b[43m    \u001b[49m\u001b[43mserialized\u001b[49m\u001b[43m=\u001b[49m\u001b[38;5;28;43mself\u001b[39;49m\u001b[43m.\u001b[49m\u001b[43m_serialized\u001b[49m\u001b[43m,\u001b[49m\n\u001b[32m    222\u001b[39m \u001b[43m\u001b[49m\u001b[43m)\u001b[49m\n",
      "\u001b[36mFile \u001b[39m\u001b[32m~/Library/CloudStorage/OneDrive-DeutscheTelekomAG/Projects/COE_Projects/langgraph_course_1/.venv/lib/python3.13/site-packages/langchain_core/runnables/base.py:1940\u001b[39m, in \u001b[36mRunnable._call_with_config\u001b[39m\u001b[34m(self, func, input_, config, run_type, serialized, **kwargs)\u001b[39m\n\u001b[32m   1936\u001b[39m     child_config = patch_config(config, callbacks=run_manager.get_child())\n\u001b[32m   1937\u001b[39m     \u001b[38;5;28;01mwith\u001b[39;00m set_config_context(child_config) \u001b[38;5;28;01mas\u001b[39;00m context:\n\u001b[32m   1938\u001b[39m         output = cast(\n\u001b[32m   1939\u001b[39m             \u001b[33m\"\u001b[39m\u001b[33mOutput\u001b[39m\u001b[33m\"\u001b[39m,\n\u001b[32m-> \u001b[39m\u001b[32m1940\u001b[39m             \u001b[43mcontext\u001b[49m\u001b[43m.\u001b[49m\u001b[43mrun\u001b[49m\u001b[43m(\u001b[49m\n\u001b[32m   1941\u001b[39m \u001b[43m                \u001b[49m\u001b[43mcall_func_with_variable_args\u001b[49m\u001b[43m,\u001b[49m\u001b[43m  \u001b[49m\u001b[38;5;66;43;03m# type: ignore[arg-type]\u001b[39;49;00m\n\u001b[32m   1942\u001b[39m \u001b[43m                \u001b[49m\u001b[43mfunc\u001b[49m\u001b[43m,\u001b[49m\n\u001b[32m   1943\u001b[39m \u001b[43m                \u001b[49m\u001b[43minput_\u001b[49m\u001b[43m,\u001b[49m\n\u001b[32m   1944\u001b[39m \u001b[43m                \u001b[49m\u001b[43mconfig\u001b[49m\u001b[43m,\u001b[49m\n\u001b[32m   1945\u001b[39m \u001b[43m                \u001b[49m\u001b[43mrun_manager\u001b[49m\u001b[43m,\u001b[49m\n\u001b[32m   1946\u001b[39m \u001b[43m                \u001b[49m\u001b[43m*\u001b[49m\u001b[43m*\u001b[49m\u001b[43mkwargs\u001b[49m\u001b[43m,\u001b[49m\n\u001b[32m   1947\u001b[39m \u001b[43m            \u001b[49m\u001b[43m)\u001b[49m,\n\u001b[32m   1948\u001b[39m         )\n\u001b[32m   1949\u001b[39m \u001b[38;5;28;01mexcept\u001b[39;00m \u001b[38;5;167;01mBaseException\u001b[39;00m \u001b[38;5;28;01mas\u001b[39;00m e:\n\u001b[32m   1950\u001b[39m     run_manager.on_chain_error(e)\n",
      "\u001b[36mFile \u001b[39m\u001b[32m~/Library/CloudStorage/OneDrive-DeutscheTelekomAG/Projects/COE_Projects/langgraph_course_1/.venv/lib/python3.13/site-packages/langchain_core/runnables/config.py:428\u001b[39m, in \u001b[36mcall_func_with_variable_args\u001b[39m\u001b[34m(func, input, config, run_manager, **kwargs)\u001b[39m\n\u001b[32m    426\u001b[39m \u001b[38;5;28;01mif\u001b[39;00m run_manager \u001b[38;5;129;01mis\u001b[39;00m \u001b[38;5;129;01mnot\u001b[39;00m \u001b[38;5;28;01mNone\u001b[39;00m \u001b[38;5;129;01mand\u001b[39;00m accepts_run_manager(func):\n\u001b[32m    427\u001b[39m     kwargs[\u001b[33m\"\u001b[39m\u001b[33mrun_manager\u001b[39m\u001b[33m\"\u001b[39m] = run_manager\n\u001b[32m--> \u001b[39m\u001b[32m428\u001b[39m \u001b[38;5;28;01mreturn\u001b[39;00m \u001b[43mfunc\u001b[49m\u001b[43m(\u001b[49m\u001b[38;5;28;43minput\u001b[39;49m\u001b[43m,\u001b[49m\u001b[43m \u001b[49m\u001b[43m*\u001b[49m\u001b[43m*\u001b[49m\u001b[43mkwargs\u001b[49m\u001b[43m)\u001b[49m\n",
      "\u001b[36mFile \u001b[39m\u001b[32m~/Library/CloudStorage/OneDrive-DeutscheTelekomAG/Projects/COE_Projects/langgraph_course_1/.venv/lib/python3.13/site-packages/langchain_core/prompts/base.py:189\u001b[39m, in \u001b[36mBasePromptTemplate._format_prompt_with_error_handling\u001b[39m\u001b[34m(self, inner_input)\u001b[39m\n\u001b[32m    188\u001b[39m \u001b[38;5;28;01mdef\u001b[39;00m\u001b[38;5;250m \u001b[39m\u001b[34m_format_prompt_with_error_handling\u001b[39m(\u001b[38;5;28mself\u001b[39m, inner_input: \u001b[38;5;28mdict\u001b[39m) -> PromptValue:\n\u001b[32m--> \u001b[39m\u001b[32m189\u001b[39m     _inner_input = \u001b[38;5;28;43mself\u001b[39;49m\u001b[43m.\u001b[49m\u001b[43m_validate_input\u001b[49m\u001b[43m(\u001b[49m\u001b[43minner_input\u001b[49m\u001b[43m)\u001b[49m\n\u001b[32m    190\u001b[39m     \u001b[38;5;28;01mreturn\u001b[39;00m \u001b[38;5;28mself\u001b[39m.format_prompt(**_inner_input)\n",
      "\u001b[36mFile \u001b[39m\u001b[32m~/Library/CloudStorage/OneDrive-DeutscheTelekomAG/Projects/COE_Projects/langgraph_course_1/.venv/lib/python3.13/site-packages/langchain_core/prompts/base.py:183\u001b[39m, in \u001b[36mBasePromptTemplate._validate_input\u001b[39m\u001b[34m(self, inner_input)\u001b[39m\n\u001b[32m    177\u001b[39m     example_key = missing.pop()\n\u001b[32m    178\u001b[39m     msg += (\n\u001b[32m    179\u001b[39m         \u001b[33mf\u001b[39m\u001b[33m\"\u001b[39m\u001b[38;5;130;01m\\n\u001b[39;00m\u001b[33mNote: if you intended \u001b[39m\u001b[38;5;130;01m{{\u001b[39;00m\u001b[38;5;132;01m{\u001b[39;00mexample_key\u001b[38;5;132;01m}\u001b[39;00m\u001b[38;5;130;01m}}\u001b[39;00m\u001b[33m to be part of the string\u001b[39m\u001b[33m\"\u001b[39m\n\u001b[32m    180\u001b[39m         \u001b[33m\"\u001b[39m\u001b[33m and not a variable, please escape it with double curly braces like: \u001b[39m\u001b[33m\"\u001b[39m\n\u001b[32m    181\u001b[39m         \u001b[33mf\u001b[39m\u001b[33m\"\u001b[39m\u001b[33m'\u001b[39m\u001b[38;5;130;01m{{\u001b[39;00m\u001b[38;5;130;01m{{\u001b[39;00m\u001b[38;5;132;01m{\u001b[39;00mexample_key\u001b[38;5;132;01m}\u001b[39;00m\u001b[38;5;130;01m}}\u001b[39;00m\u001b[38;5;130;01m}}\u001b[39;00m\u001b[33m'\u001b[39m\u001b[33m.\u001b[39m\u001b[33m\"\u001b[39m\n\u001b[32m    182\u001b[39m     )\n\u001b[32m--> \u001b[39m\u001b[32m183\u001b[39m     \u001b[38;5;28;01mraise\u001b[39;00m \u001b[38;5;167;01mKeyError\u001b[39;00m(\n\u001b[32m    184\u001b[39m         create_message(message=msg, error_code=ErrorCode.INVALID_PROMPT_INPUT)\n\u001b[32m    185\u001b[39m     )\n\u001b[32m    186\u001b[39m \u001b[38;5;28;01mreturn\u001b[39;00m inner_input\n",
      "\u001b[31mKeyError\u001b[39m: \"Input to PromptTemplate is missing variables {'tools', 'tool_names', 'agent_scratchpad', 'input'}.  Expected: ['agent_scratchpad', 'input', 'tool_names', 'tools'] Received: ['messages', 'is_last_step', 'remaining_steps']\\nNote: if you intended {tools} to be part of the string and not a variable, please escape it with double curly braces like: '{{tools}}'.\\nFor troubleshooting, visit: https://python.langchain.com/docs/troubleshooting/errors/INVALID_PROMPT_INPUT \"",
      "During task with name 'agent' and id '577f46b4-99c4-b252-93a4-8a289750a670'"
     ]
    }
   ],
   "source": [
    "agent.invoke({\"input\" : \"What is agent Memory\"})"
   ]
  },
  {
   "cell_type": "code",
   "execution_count": null,
   "id": "fb06bf51-23e7-44e3-bef6-041148f1c64d",
   "metadata": {},
   "outputs": [],
   "source": [
    "def agent_reasoning_node(state: AgentState):\n",
    "    agent_outcome = agent.invoke({\"input\" : \"What is agent Memory\"})\n",
    "    "
   ]
  },
  {
   "cell_type": "code",
   "execution_count": 14,
   "id": "02e86358-5258-4f3e-99b6-945f386a026c",
   "metadata": {},
   "outputs": [
    {
     "name": "stdout",
     "output_type": "stream",
     "text": [
      "Answer the following questions as best you can. You have access to the following tools:\n",
      "\n",
      "{tools}\n",
      "\n",
      "Use the following format:\n",
      "\n",
      "Question: the input question you must answer\n",
      "Thought: you should always think about what to do\n",
      "Action: the action to take, should be one of [{tool_names}]\n",
      "Action Input: the input to the action\n",
      "Observation: the result of the action\n",
      "... (this Thought/Action/Action Input/Observation can repeat N times)\n",
      "Thought: I now know the final answer\n",
      "Final Answer: the final answer to the original input question\n",
      "\n",
      "Begin!\n",
      "\n",
      "Question: {input}\n",
      "Thought:{agent_scratchpad}\n"
     ]
    }
   ],
   "source": [
    "print(react_prompt.template)"
   ]
  },
  {
   "cell_type": "code",
   "execution_count": 4,
   "id": "c24817bf-2331-496c-a9b6-491bcde70958",
   "metadata": {},
   "outputs": [
    {
     "data": {
      "text/plain": [
       "True"
      ]
     },
     "execution_count": 4,
     "metadata": {},
     "output_type": "execute_result"
    }
   ],
   "source": []
  },
  {
   "cell_type": "code",
   "execution_count": null,
   "id": "cbf27b52-33dc-43da-997b-9ba24441c6cd",
   "metadata": {},
   "outputs": [],
   "source": []
  }
 ],
 "metadata": {
  "kernelspec": {
   "display_name": "Python 3 (ipykernel)",
   "language": "python",
   "name": "python3"
  },
  "language_info": {
   "codemirror_mode": {
    "name": "ipython",
    "version": 3
   },
   "file_extension": ".py",
   "mimetype": "text/x-python",
   "name": "python",
   "nbconvert_exporter": "python",
   "pygments_lexer": "ipython3",
   "version": "3.13.3"
  }
 },
 "nbformat": 4,
 "nbformat_minor": 5
}
