{
 "cells": [
  {
   "cell_type": "code",
   "execution_count": 1,
   "id": "3f5fcb4e-49c1-4a37-903e-b0881df2aaac",
   "metadata": {},
   "outputs": [
    {
     "data": {
      "text/plain": [
       "True"
      ]
     },
     "execution_count": 1,
     "metadata": {},
     "output_type": "execute_result"
    }
   ],
   "source": [
    "from langchain_core.prompts import ChatPromptTemplate, MessagesPlaceholder\n",
    "from langchain_openai import ChatOpenAI\n",
    "from langchain_core.messages import HumanMessage\n",
    "import datetime\n",
    "from dotenv import load_dotenv\n",
    "load_dotenv(override=True)"
   ]
  },
  {
   "cell_type": "code",
   "execution_count": 207,
   "id": "71d08c6f-6ab7-4275-b6c2-07a7deb64190",
   "metadata": {},
   "outputs": [],
   "source": [
    "actor_template = ChatPromptTemplate.from_messages(\n",
    "    [\n",
    "        (\n",
    "            \"system\", \n",
    "            \"\"\"\n",
    "            You are an expert researcher\n",
    "            Current time: {time}\n",
    "\n",
    "            1. {first_instruction}\n",
    "            2. Reflect and Critique your answer. Be severe to maximize your improvement.\n",
    "            3. Recommend search queries to research information and improve your answer. \n",
    "            \"\"\"\n",
    "        ),\n",
    "        MessagesPlaceholder(variable_name = \"messages\"),\n",
    "        (\n",
    "            \"system\", \"Answer the user's question above using the necessary format.\"\n",
    "        )\n",
    "    ]\n",
    ")"
   ]
  },
  {
   "cell_type": "code",
   "execution_count": 208,
   "id": "2c815789-1368-4e3b-a9fc-811511bed7f2",
   "metadata": {},
   "outputs": [],
   "source": [
    "actor_template = actor_template.partial(time = datetime.datetime.now().isoformat())"
   ]
  },
  {
   "cell_type": "code",
   "execution_count": 233,
   "id": "0a4ba566-0819-48c9-9985-0e4fc85d5c66",
   "metadata": {},
   "outputs": [],
   "source": [
    "llm = ChatOpenAI(model = \"o4-mini\")"
   ]
  },
  {
   "cell_type": "code",
   "execution_count": null,
   "id": "d7f37f8a-0d73-4238-9259-752162f8dd98",
   "metadata": {},
   "outputs": [],
   "source": []
  },
  {
   "cell_type": "code",
   "execution_count": 234,
   "id": "1499c111-3ecb-46b4-9289-3218e1c31d64",
   "metadata": {},
   "outputs": [],
   "source": [
    "from pydantic import BaseModel, Field\n",
    "from typing import List"
   ]
  },
  {
   "cell_type": "code",
   "execution_count": 235,
   "id": "101a1efd-874c-42ba-8256-1bd59e6e649e",
   "metadata": {},
   "outputs": [],
   "source": [
    "class Reflection(BaseModel):\n",
    "    missing: str = Field(description=\"Critique of what is missing\")\n",
    "    unnecessary: str = Field(description=\"Critique of what is unnecessary\")"
   ]
  },
  {
   "cell_type": "code",
   "execution_count": 236,
   "id": "831bdedb-c015-4ce4-9137-c765ac4bb3cd",
   "metadata": {},
   "outputs": [],
   "source": [
    "class AnswerQuestion(BaseModel):\n",
    "    \"\"\"Answer the question.\"\"\"\n",
    "    answer: str = Field(description=\"Detailed Answer to the query in around 250 words\")\n",
    "    reflection: Reflection = Field(description=\"Your reflection on the initial response\")\n",
    "    search_string: List[str] = Field(\n",
    "        description=\"1-3 search queries for researching improvements to address the critique of your current answer.\"\n",
    "    )"
   ]
  },
  {
   "cell_type": "code",
   "execution_count": 237,
   "id": "a0798d0a-4111-4790-9175-825f9321984b",
   "metadata": {},
   "outputs": [],
   "source": [
    "from langchain_core.output_parsers.openai_tools import JsonOutputToolsParser, PydanticToolsParser"
   ]
  },
  {
   "cell_type": "code",
   "execution_count": 238,
   "id": "5e526106-d022-4dcd-9464-a0fe0b571071",
   "metadata": {},
   "outputs": [],
   "source": [
    "parser = JsonOutputToolsParser(return_id = True)"
   ]
  },
  {
   "cell_type": "code",
   "execution_count": 239,
   "id": "434173b6-c83f-4ddf-a1ad-8b21912ad9dc",
   "metadata": {},
   "outputs": [],
   "source": [
    "parser_pydantic = PydanticToolsParser(tools=[AnswerQuestion])"
   ]
  },
  {
   "cell_type": "code",
   "execution_count": 240,
   "id": "7efdef8a-cc9f-4096-acd1-456d441c0238",
   "metadata": {},
   "outputs": [],
   "source": [
    "first_responder_template = actor_template.partial(first_instruction = \"Provide a detailed~250 word answer\")"
   ]
  },
  {
   "cell_type": "code",
   "execution_count": 241,
   "id": "ca9c70d3-fa29-4e13-89bf-e216fa9116cb",
   "metadata": {},
   "outputs": [],
   "source": [
    "first_responder = (\n",
    "    first_responder_template | \n",
    "    llm.bind_tools(tools = [AnswerQuestion], tool_choice=\"AnswerQuestion\") |\n",
    "    parser_pydantic\n",
    ")"
   ]
  },
  {
   "cell_type": "code",
   "execution_count": 242,
   "id": "1546dd4b-d3f0-4272-a7c2-7fdffbd96766",
   "metadata": {},
   "outputs": [],
   "source": [
    "chain_responder = (\n",
    "    first_responder_template |\n",
    "    llm.bind_tools(tools = [AnswerQuestion], tool_choice=\"AnswerQuestion\")\n",
    ")"
   ]
  },
  {
   "cell_type": "code",
   "execution_count": 243,
   "id": "af5694e9-9a80-44b6-82af-f56c61a97452",
   "metadata": {},
   "outputs": [],
   "source": [
    "human_message = HumanMessage(content = \"\"\"\n",
    "Write about AI-powered SOC / autonomous problem domain, List startups which does this and raises captial.\n",
    "\"\"\")"
   ]
  },
  {
   "cell_type": "code",
   "execution_count": 244,
   "id": "7f04048f-1499-40ba-9913-b943a81f7626",
   "metadata": {},
   "outputs": [],
   "source": [
    "response = first_responder.invoke({\n",
    "    \"messages\": [human_message]\n",
    "})"
   ]
  },
  {
   "cell_type": "code",
   "execution_count": 245,
   "id": "c569243c-a8e9-4c07-980f-97039d4c575c",
   "metadata": {},
   "outputs": [
    {
     "data": {
      "text/plain": [
       "'An AI-powered Security Operations Center (SOC) leverages machine learning, behavioral analytics and automation to detect, investigate and remediate cyber threats at machine speed. In the autonomous problem domain, these platforms ingest vast telemetry—network flows, endpoint logs, cloud events—and apply AI models for anomaly detection, threat hunting and predictive risk scoring. When a suspicious pattern emerges, automated playbooks can triage alerts, gather contextual data (e.g., threat intelligence, asset risk), escalate high-priority incidents, and even orchestrate response actions such as network quarantines or endpoint isolation without human intervention.\\n\\nKey Benefits:\\n• Speed: Real-time threat identification and response reduces dwell time from days to minutes.  \\n• Efficiency: AI filters out false positives and automates routine tasks, allowing human analysts to focus on complex investigations.  \\n• Scalability: As enterprise attack surface grows, AI-driven SOCs scale horizontally, processing petabytes of data.\\n\\nChallenges include model drift, explainability of AI decisions, integration complexity and the need for high-quality telemetry.\\n\\nNotable AI-SOC/Autonomous Security Startups (with funding):\\n• Darktrace: $230M+ raised; patented Self-Learning AI for anomaly detection.  \\n• Vectra AI: $300M+ raised; specializes in network detection and response (NDR).  \\n• Hunters (Hunters.ai): ~$50M raised; automated threat hunting platform.  \\n• Siemplify (acquired by Google in 2022 after raising $60M): security orchestration, automation and response (SOAR).  \\n• Swimlane: $50M+ raised; low-code security automation.  \\n• D3 Security: $45M raised; SOAR and case management with AI-driven decision support.  \\n• Respond Software: $40M raised; automated incident response through AI-led playbooks.\\n\\nThese innovators are advancing toward fully autonomous SOCs that reduce human toil and improve security posture across industries.'"
      ]
     },
     "execution_count": 245,
     "metadata": {},
     "output_type": "execute_result"
    }
   ],
   "source": [
    "response[0].answer"
   ]
  },
  {
   "cell_type": "code",
   "execution_count": 246,
   "id": "4a4710b5-7549-41b8-8138-2c83ef05a347",
   "metadata": {},
   "outputs": [
    {
     "data": {
      "text/plain": [
       "Reflection(missing='Specific customer success metrics, comparative performance data, and deeper technical architecture details (e.g. types of ML models used).', unnecessary='General background on AI benefits that are well-known; could be more concise on common benefits to focus on unique differentiators of each startup.')"
      ]
     },
     "execution_count": 246,
     "metadata": {},
     "output_type": "execute_result"
    }
   ],
   "source": [
    "response[0].reflection"
   ]
  },
  {
   "cell_type": "code",
   "execution_count": 247,
   "id": "17a8c0f6-f470-47b8-9b56-2cf981dd5933",
   "metadata": {},
   "outputs": [
    {
     "data": {
      "text/plain": [
       "['AI-powered SOC startups funding',\n",
       " 'autonomous SOC problem domain market report',\n",
       " 'AI SOC automation funding list']"
      ]
     },
     "execution_count": 247,
     "metadata": {},
     "output_type": "execute_result"
    }
   ],
   "source": [
    "response[0].search_string"
   ]
  },
  {
   "cell_type": "code",
   "execution_count": null,
   "id": "620678fd-a960-48ca-98a7-7710a4c909cc",
   "metadata": {},
   "outputs": [],
   "source": []
  },
  {
   "cell_type": "code",
   "execution_count": 248,
   "id": "9caa2314-75cb-43c7-a7b0-77d87302d72b",
   "metadata": {},
   "outputs": [],
   "source": [
    "class ReviseAnswer(BaseModel):\n",
    "    \"\"\"Revise your original answer to your question.\"\"\"\n",
    "    references: List[str] = Field(\n",
    "        description = \"Citations Motivating the answer\" \n",
    "    )"
   ]
  },
  {
   "cell_type": "code",
   "execution_count": 288,
   "id": "3433979f-a960-4d65-811c-2a8fbf60578b",
   "metadata": {},
   "outputs": [],
   "source": [
    "revise_instruction = \"\"\"\n",
    "Revise your previous answer using the new information.\n",
    "-  You should use the previous critique to add importatnt information.\n",
    "    - You must include numerical citations in your revised answer to ensure it can be verified.\n",
    "    - Add a \"References\" section to the bottom of your answer (which does not count towards the word limit). In form of:\n",
    "        - [1] https://example.com\n",
    "        - [2] https://example.com\n",
    "    - You should use the previous critique to remove superfluous information from your answer and make SURE it is not more than 250 words.\n",
    "\"\"\""
   ]
  },
  {
   "cell_type": "code",
   "execution_count": 289,
   "id": "35dc22a1-9ac2-48f2-9338-4ebb14e264cf",
   "metadata": {},
   "outputs": [],
   "source": [
    "revisor = actor_template.partial(first_instruction = revise_instruction)"
   ]
  },
  {
   "cell_type": "code",
   "execution_count": 290,
   "id": "7a87425f-f829-4d21-ae72-f0f55e5d80df",
   "metadata": {},
   "outputs": [],
   "source": [
    "chain_revisor = (\n",
    "    revisor |\n",
    "    llm.bind_tools(tools = [ReviseAnswer], tool_choice = \"ReviseAnswer\")\n",
    ")"
   ]
  },
  {
   "cell_type": "code",
   "execution_count": null,
   "id": "bac8386b-c7b7-4b30-b985-54402a5a0d5d",
   "metadata": {},
   "outputs": [],
   "source": []
  },
  {
   "cell_type": "code",
   "execution_count": 291,
   "id": "fd74f2b4-b611-4945-b9a2-b65323db894f",
   "metadata": {},
   "outputs": [],
   "source": [
    "from langchain_tavily import TavilySearch\n",
    "from langgraph.prebuilt import ToolNode\n",
    "from langchain_core.tools import StructuredTool"
   ]
  },
  {
   "cell_type": "code",
   "execution_count": 292,
   "id": "2ddfcd6b-06b6-4629-babd-9a8951a0b564",
   "metadata": {},
   "outputs": [],
   "source": [
    "tavily_search = TavilySearch(max_result = 5)"
   ]
  },
  {
   "cell_type": "code",
   "execution_count": 293,
   "id": "8cfbdd37-99f7-4b2b-bbda-811de8c72828",
   "metadata": {},
   "outputs": [],
   "source": [
    "def run_queries(search_string: list[str], **kwargs):\n",
    "    \"\"\"\n",
    "    Runs Google search for all the queries\n",
    "    \"\"\"\n",
    "    return tavily_search.batch([{\"query\" : query} for query in search_string])"
   ]
  },
  {
   "cell_type": "code",
   "execution_count": 294,
   "id": "98ea5c55-f4c6-47c0-95b9-83e38e535b40",
   "metadata": {},
   "outputs": [],
   "source": [
    "executor_node = ToolNode(\n",
    "    tools=[\n",
    "        StructuredTool.from_function(func=run_queries, name = AnswerQuestion.__name__),\n",
    "        StructuredTool.from_function(func=run_queries, name = ReviseAnswer.__name__)\n",
    "    ]\n",
    ")"
   ]
  },
  {
   "cell_type": "code",
   "execution_count": 321,
   "id": "338f4a4d-e77b-4596-ae62-5c78bca1716c",
   "metadata": {},
   "outputs": [],
   "source": [
    "sample_tool = StructuredTool.from_function(func=run_queries, name = ReviseAnswer.__name__)"
   ]
  },
  {
   "cell_type": "code",
   "execution_count": 324,
   "id": "c3a184d3-066f-49c3-85d0-bfa5d6234707",
   "metadata": {},
   "outputs": [
    {
     "name": "stderr",
     "output_type": "stream",
     "text": [
      "/var/folders/xg/ffmlt01s6576w5wrhsp6ljqh0000gq/T/ipykernel_12984/1416035030.py:1: PydanticDeprecatedSince20: The `dict` method is deprecated; use `model_dump` instead. Deprecated in Pydantic V2.0 to be removed in V3.0. See Pydantic V2 Migration Guide at https://errors.pydantic.dev/2.11/migration/\n",
      "  sample_tool.dict()\n"
     ]
    },
    {
     "data": {
      "text/plain": [
       "{'name': 'ReviseAnswer',\n",
       " 'description': 'Runs Google search for all the queries',\n",
       " 'args_schema': langchain_core.utils.pydantic.ReviseAnswer,\n",
       " 'return_direct': False,\n",
       " 'verbose': False,\n",
       " 'tags': None,\n",
       " 'metadata': None,\n",
       " 'handle_tool_error': False,\n",
       " 'handle_validation_error': False,\n",
       " 'response_format': 'content',\n",
       " 'func': <function __main__.run_queries(search_string: list[str], **kwargs)>,\n",
       " 'coroutine': None}"
      ]
     },
     "execution_count": 324,
     "metadata": {},
     "output_type": "execute_result"
    }
   ],
   "source": [
    "sample_tool.dict()"
   ]
  },
  {
   "cell_type": "code",
   "execution_count": 295,
   "id": "02687364-f6af-40d6-aba6-b53cf1d3d623",
   "metadata": {},
   "outputs": [],
   "source": [
    "from langchain_core.messages import HumanMessage, AIMessage, BaseMessage, ToolMessage\n",
    "from langgraph.graph import MessageGraph, END, START\n",
    "from typing import List"
   ]
  },
  {
   "cell_type": "code",
   "execution_count": null,
   "id": "7af6d07e-dd8a-48af-ae7b-47ed11e7a3db",
   "metadata": {},
   "outputs": [],
   "source": []
  },
  {
   "cell_type": "code",
   "execution_count": 296,
   "id": "1823c019-979c-4d6c-a2aa-3fa5732df8da",
   "metadata": {},
   "outputs": [],
   "source": [
    "builder = MessageGraph()"
   ]
  },
  {
   "cell_type": "code",
   "execution_count": 297,
   "id": "d18b481c-7315-4f56-9992-4883ece85a1b",
   "metadata": {},
   "outputs": [
    {
     "data": {
      "text/plain": [
       "<langgraph.graph.message.MessageGraph at 0x1165d7950>"
      ]
     },
     "execution_count": 297,
     "metadata": {},
     "output_type": "execute_result"
    }
   ],
   "source": [
    "builder.add_node(\"first_responder\", chain_responder)"
   ]
  },
  {
   "cell_type": "code",
   "execution_count": 298,
   "id": "6c5086e5-816b-425e-915f-7f3f64144667",
   "metadata": {},
   "outputs": [
    {
     "data": {
      "text/plain": [
       "<langgraph.graph.message.MessageGraph at 0x1165d7950>"
      ]
     },
     "execution_count": 298,
     "metadata": {},
     "output_type": "execute_result"
    }
   ],
   "source": [
    "builder.add_node(\"revisor_node\", chain_revisor)"
   ]
  },
  {
   "cell_type": "code",
   "execution_count": 299,
   "id": "aba5708e-db73-40d2-9eeb-3a5d7e9936bd",
   "metadata": {},
   "outputs": [
    {
     "data": {
      "text/plain": [
       "<langgraph.graph.message.MessageGraph at 0x1165d7950>"
      ]
     },
     "execution_count": 299,
     "metadata": {},
     "output_type": "execute_result"
    }
   ],
   "source": [
    "builder.add_node(\"tool_node\", executor_node)"
   ]
  },
  {
   "cell_type": "code",
   "execution_count": 300,
   "id": "7a43b6d8-471c-4a3f-a210-3926dfe62c3d",
   "metadata": {},
   "outputs": [
    {
     "data": {
      "text/plain": [
       "<langgraph.graph.message.MessageGraph at 0x1165d7950>"
      ]
     },
     "execution_count": 300,
     "metadata": {},
     "output_type": "execute_result"
    }
   ],
   "source": [
    "builder.add_edge(START, \"first_responder\")"
   ]
  },
  {
   "cell_type": "code",
   "execution_count": 301,
   "id": "a7ac9a8c-852b-49da-85e1-4b71c187814c",
   "metadata": {},
   "outputs": [
    {
     "data": {
      "text/plain": [
       "<langgraph.graph.message.MessageGraph at 0x1165d7950>"
      ]
     },
     "execution_count": 301,
     "metadata": {},
     "output_type": "execute_result"
    }
   ],
   "source": [
    "builder.add_edge(\"first_responder\", \"tool_node\")"
   ]
  },
  {
   "cell_type": "code",
   "execution_count": 302,
   "id": "22c3b4db-1335-4e1c-aa97-aa0c994adf0e",
   "metadata": {},
   "outputs": [
    {
     "data": {
      "text/plain": [
       "<langgraph.graph.message.MessageGraph at 0x1165d7950>"
      ]
     },
     "execution_count": 302,
     "metadata": {},
     "output_type": "execute_result"
    }
   ],
   "source": [
    "builder.add_edge(\"tool_node\", \"revisor_node\")"
   ]
  },
  {
   "cell_type": "code",
   "execution_count": 303,
   "id": "360b4ce0-423e-46be-80cd-3b0249c75b1e",
   "metadata": {},
   "outputs": [],
   "source": [
    "def should_end_or_continue(state: List[BaseMessage]) -> str:\n",
    "    if sum([isinstance(state_msg, ToolMessage) for state_msg in state]) <= 2:\n",
    "        return \"should_continue\"\n",
    "\n",
    "    return \"should_end\""
   ]
  },
  {
   "cell_type": "code",
   "execution_count": 304,
   "id": "abc5292a-a2d6-4691-80c3-b96eecd32b91",
   "metadata": {},
   "outputs": [
    {
     "data": {
      "text/plain": [
       "<langgraph.graph.message.MessageGraph at 0x1165d7950>"
      ]
     },
     "execution_count": 304,
     "metadata": {},
     "output_type": "execute_result"
    }
   ],
   "source": [
    "builder.add_conditional_edges(\"revisor_node\", should_end_or_continue, {\"should_continue\": \"tool_node\", \"should_end\": END})"
   ]
  },
  {
   "cell_type": "code",
   "execution_count": 305,
   "id": "2b702f71-3749-4de9-a142-b8ab53e2e816",
   "metadata": {},
   "outputs": [],
   "source": [
    "flow = builder.compile()"
   ]
  },
  {
   "cell_type": "code",
   "execution_count": 306,
   "id": "81239afc-80cd-41a4-b322-4809e222c8f8",
   "metadata": {},
   "outputs": [
    {
     "data": {
      "image/png": "[encoded data removed]",
      "text/plain": [
       "<langgraph.graph.state.CompiledStateGraph object at 0x121556cf0>"
      ]
     },
     "execution_count": 306,
     "metadata": {},
     "output_type": "execute_result"
    }
   ],
   "source": [
    "flow"
   ]
  },
  {
   "cell_type": "code",
   "execution_count": 307,
   "id": "adf6524f-f994-4ea7-b5eb-53e8ca4a7d1c",
   "metadata": {},
   "outputs": [],
   "source": [
    "response_field = flow.invoke(\n",
    "    \"Write about AI-Powered SOC / autonomous soc problem domain, list startups that do that and raised capital\"\n",
    ")"
   ]
  },
  {
   "cell_type": "code",
   "execution_count": 319,
   "id": "2d7a2b1c-e1ca-4983-8886-c0f76ae1480f",
   "metadata": {},
   "outputs": [
    {
     "data": {
      "text/plain": [
       "{'references': ['https://justainews.com/companies/funding-news/conifers-ai-raises-25m/',\n",
       "  'https://www.securityweek.com/intezer-raises-33m-to-extend-ai-powered-soc-platform/',\n",
       "  'https://redcanary.com/news/red-canary-raises-34m-series-b/',\n",
       "  'https://www.isai.vc/news/devo-announces-100-million-funding-round']}"
      ]
     },
     "execution_count": 319,
     "metadata": {},
     "output_type": "execute_result"
    }
   ],
   "source": [
    "response_field[3].tool_calls[0][\"args\"]"
   ]
  },
  {
   "cell_type": "code",
   "execution_count": 309,
   "id": "601dbcff-070c-475d-97dd-035dc0871c3b",
   "metadata": {},
   "outputs": [
    {
     "data": {
      "text/plain": [
       "ToolMessage(content=\"Error: 1 validation error for ReviseAnswer\\nsearch_string\\n  Field required [type=missing, input_value={'references': ['https://...million-funding-round']}, input_type=dict]\\n    For further information visit https://errors.pydantic.dev/2.11/v/missing\\n Please fix your mistakes.\", name='ReviseAnswer', id='7a6dd271-f231-4f59-a25d-c03ef7d32013', tool_call_id='call_AQOfpLiQ5vAKYmqCLVUBIWmO', status='error')"
      ]
     },
     "execution_count": 309,
     "metadata": {},
     "output_type": "execute_result"
    }
   ],
   "source": [
    "response_field[4]"
   ]
  },
  {
   "cell_type": "code",
   "execution_count": 281,
   "id": "0aa4b68a-3fc2-42e4-b202-3751f814563b",
   "metadata": {},
   "outputs": [
    {
     "data": {
      "text/plain": [
       "[{'query': 'AI-powered SOC startups funding raised capital',\n",
       "  'follow_up_questions': None,\n",
       "  'answer': None,\n",
       "  'images': [],\n",
       "  'results': [{'title': 'AI-Powered SOCs? Conifers.ai Lands $25M to Make It a Reality',\n",
       "    'url': 'https://justainews.com/companies/funding-news/conifers-ai-raises-25m/',\n",
       "    'content': \"Conifers.ai has raised $25 million in funding, a major milestone in its journey to enhance security operations centers (SOCs) with AI-powered technology.The investment comes from SYN Ventures, Picus Capital, and other strategic investors, who believe in the company's vision for a smarter and more effective approach to cybersecurity.. Although the company has not disclosed its valuation, this\",\n",
       "    'score': 0.90039873,\n",
       "    'raw_content': None},\n",
       "   {'title': 'Intezer Raises $33M to Extend AI-Powered SOC Platform',\n",
       "    'url': 'https://www.securityweek.com/intezer-raises-33m-to-extend-ai-powered-soc-platform/',\n",
       "    'content': \"The company plans to use the new capital on R&D and to speed up growth in the emerging AI SOC category. Related: Intezer Documents Powerful 'Lightning Framework' Linux Malware. Related: Intezer Raises $15 Million in Series B Funding Related: Radiant Snags $15 Million for AI-Powered SOC Technology Related: Reach Security Raises $20M to Help Manage Cybersecurity Product\",\n",
       "    'score': 0.81875163,\n",
       "    'raw_content': None},\n",
       "   {'title': 'Top 50 Investors Funding AI Startups in 2025 - Tech Startups',\n",
       "    'url': 'https://techstartups.com/2025/03/21/top-50-investors-funding-ai-startup-companies-in-2025/',\n",
       "    'content': '**Funding Insight:** Thrive Capital made one of the boldest AI bets of the year by co-leading Databricks’ $10B Series J — one of the largest private AI rounds ever raised. **Funding Insight:** WCM Investment Management joined the Databricks Series J round as part of the institutional wave backing core AI platforms. **Funding Insight:** Premji Invest backed Hippocratic AI’s $141M Series B, adding a global dimension to the healthcare AI narrative. | 37 | **OpenAI Startup Fund** | Harvey (AI legal) | Participated in a $300 million round\\u200b | USA | Mar 2025 | | 44 | **Fidelity Investments** | xAI (Elon Musk’s AI startup) | Participated in $6 billion Series C\\u200b | USA | _Dec 2024 (cont.2025)_ |',\n",
       "    'score': 0.49377534,\n",
       "    'raw_content': None},\n",
       "   {'title': 'Multiplier, founded by ex-Stripe exec, nabs $27.5M to fuel AI-powered ...',\n",
       "    'url': 'https://techcrunch.com/2025/06/18/multiplier-founded-by-ex-stripe-exec-nabs-27-5m-to-fuel-ai-powered-accounting-roll-ups/',\n",
       "    'content': 'The PE-style roll-up strategy has recently gained popularity among VCs, with investors such as General Catalyst, Elad Gil, Thrive, and Khosla Ventures backing startups that develop AI solutions',\n",
       "    'score': 0.39124367,\n",
       "    'raw_content': None},\n",
       "   {'title': 'Startup Funding: Q4 2024 - Semiconductor Engineering',\n",
       "    'url': 'https://semiengineering.com/startup-funding-q4-2024/',\n",
       "    'content': '*   Low Power - High Performance *   Power & Performance It also includes a dynamic thermal management solution to predict and adjust the cooling requirements of AI servers. Neuronova is developing ultra-low power processors that implement neurons and synapses as physical structures on silicon to emulate the brain directly at the hardware level for AI on battery-powered devices. Quantum Brilliance also offers a software development kit that includes high performance emulators for development and testing of quantum applications. *   Paul Egan on What’s Missing From Predictions *   Paul Karazuba on A Buyers Guide To An NPU *   Henley on A Buyers Guide To An NPU *   Ravi on What’s Next For Emulation *   AMA on Using Emulators For Power/Performance Tradeoffs',\n",
       "    'score': 0.21138462,\n",
       "    'raw_content': None}],\n",
       "  'response_time': 1.92},\n",
       " {'query': 'autonomous SOC platform market analysis 2025',\n",
       "  'follow_up_questions': None,\n",
       "  'answer': None,\n",
       "  'images': [],\n",
       "  'results': [{'title': 'Autonomous Vehicle SoC Chips Analysis 2025-2033: Unlocking Competitive ...',\n",
       "    'url': 'https://www.datainsightsmarket.com/reports/autonomous-vehicle-soc-chips-130366',\n",
       "    'content': 'The Autonomous Vehicle (AV) SoC chip market is experiencing explosive growth, driven by the increasing adoption of advanced driver-assistance systems (ADAS) and the burgeoning development of fully autonomous vehicles. The market, currently estimated at $8 billion in 2025, is projected to reach $30 billion by 2033, exhibiting a robust Compound Annual Growth Rate (CAGR) of approximately 15%',\n",
       "    'score': 0.91760606,\n",
       "    'raw_content': None},\n",
       "   {'title': 'Autonomous Driving Soc Chip Market Report | Global Forecast From 2025 ...',\n",
       "    'url': 'https://dataintelo.com/report/autonomous-driving-soc-chip-market',\n",
       "    'content': 'The global market size for Autonomous Driving SoC (System on Chip) was estimated at USD 8.5 billion in 2023 and is projected to reach USD 42.3 billion by 2032, growing at a compound annual growth rate (CAGR) of 19.8% during the forecast period.',\n",
       "    'score': 0.8668671,\n",
       "    'raw_content': None},\n",
       "   {'title': 'Automotive SoC Market Size, Share & Trends 2025 to 2035',\n",
       "    'url': 'https://www.futuremarketinsights.com/reports/automotive-soc-market',\n",
       "    'content': 'The automotive system-on-chip (SoC) market is expected to expand rapidly during the 2025 to 2035 timeframe, fueled by increasing proliferation of advanced driver-assistance systems (ADAS), connected automobiles, and electrification of vehicles. Increasing adoption of electric vehicles (EVs) and advanced driver-assistance systems (ADAS) in the automotive sector is also creating demand for high-performance automotive SoCs. EVs need these energy-efficient processors for their battery management systems (BMS), motor control, and real-time data processing. The USA market for automotive SoC is thriving on continuous integration of an advanced driver assistance systems scheme and the increasing adoption of electric vehicles. The automotive market of System-on-Chips (SoCs) for automobiles is highly competitive in the events of ADAS, electrification, and advanced connectable vehicles.',\n",
       "    'score': 0.6557114,\n",
       "    'raw_content': None},\n",
       "   {'title': 'Autonomous Driving SoC Market Size | Analysis Report 2033',\n",
       "    'url': 'https://www.alliedmarketresearch.com/autonomous-driving-soc-market-A323750',\n",
       "    'content': 'The global autonomous driving soc market was valued at $36.8 billion in 2023, and is projected to reach $100.1 billion by 2033, growing at a CAGR of 10.6% from 2024 to 2033. An autonomous driving System-on-Chip (SoC) refers to a specialized integrated circuit designed to power and control various',\n",
       "    'score': 0.533714,\n",
       "    'raw_content': None},\n",
       "   {'title': '$205 Bn System-on-Chip (SoC) Market Analysis by Core Count, - GlobeNewswire',\n",
       "    'url': 'https://www.globenewswire.com/news-release/2025/04/17/3063259/28124/en/205-Bn-System-on-Chip-SoC-Market-Analysis-by-Core-Count-Core-Architecture-Device-Global-Forecast-to-2029.html',\n",
       "    'content': 'The System-on-Chip (SoC) market is projected to reach a value of USD 138.46 billion in 2024 and USD 205.97 billion by 2029, growing at a CAGR of 8.3% between 2024 and 2029',\n",
       "    'score': 0.4892356,\n",
       "    'raw_content': None}],\n",
       "  'response_time': 1.98},\n",
       " {'query': 'AI SOAR vs XDR differentiation',\n",
       "  'follow_up_questions': None,\n",
       "  'answer': None,\n",
       "  'images': [],\n",
       "  'results': [{'title': 'XDR vs SOAR: 6 Key Differences and How to Choose - cynet.com',\n",
       "    'url': 'https://www.cynet.com/xdr-security/xdr-vs-soar-6-key-differences-and-how-to-choose/',\n",
       "    'content': 'XDR vs. SOAR: The Key Differences . XDR and SOAR both help improve security operations, but they approach this goal differently. 1. Focus. XDR focuses on unifying security telemetry to provide an integrated approach to threat detection and response. It pulls data from across platforms and correlates it to detect threats that an individual',\n",
       "    'score': 0.8473754,\n",
       "    'raw_content': None},\n",
       "   {'title': 'XDR vs. SOAR: Key Differences and Benefits - SentinelOne',\n",
       "    'url': 'https://www.sentinelone.com/cybersecurity-101/xdr/xdr-vs-soar/',\n",
       "    'content': 'With AI-powered, enterprise-wide cyber security, it enables organizations to detect, prevent, and respond to security threats at machine speed. ... Using XDR vs SOAR, or a combination depends on your security needs and deployment. XDR is perfect for bringing advanced threat detection and response to various layers, endpoints, networks, and',\n",
       "    'score': 0.79080546,\n",
       "    'raw_content': None},\n",
       "   {'title': 'XDR vs SOAR: Key Differences, Benefits & Limitations',\n",
       "    'url': 'https://www.blinkops.com/blog/xdr-vs-soar',\n",
       "    'content': 'XDR vs SOAR: Key Differences. Even though both XDR and SOAR improve security operations, they do so in different ways and for different reasons. Below, we break down the key differences across various aspects to help you understand how each solution serves a unique role in modern cybersecurity.',\n",
       "    'score': 0.7872945,\n",
       "    'raw_content': None},\n",
       "   {'title': 'SOAR vs XDR: 4 Key Differences and Using Them Together',\n",
       "    'url': 'https://www.exabeam.com/explainers/soar/soar-vs-xdr-4-key-differences-and-using-them-together/',\n",
       "    'content': \"In my experience, here are tips that can help you make better use of SOAR and XDR solutions: Leverage SOAR for after-action reviews: Use SOAR's detailed post-incident documentation not only for compliance but to conduct structured after-action reviews.This practice helps identify bottlenecks in response workflows and ensures lessons learned from incidents are fed back into automated processes.\",\n",
       "    'score': 0.6698534,\n",
       "    'raw_content': None},\n",
       "   {'title': \"XDR vs. SIEM vs. SOAR: What's the Difference? | CrowdStrike\",\n",
       "    'url': 'https://www.crowdstrike.com/en-us/cybersecurity-101/next-gen-siem/xdr-vs-siem-vs-soar/',\n",
       "    'content': 'What are the key differences between SIEM, SOAR and XDR? SIEM is primarily a log collection tool intended to support compliance, data storage and analysis. Security analytics is a capability that has been largely bolted on to SIEM solutions and does not adequately identify threats without running a separate security analytic function on top of a huge data set.',\n",
       "    'score': 0.64719695,\n",
       "    'raw_content': None}],\n",
       "  'response_time': 2.15}]"
      ]
     },
     "execution_count": 281,
     "metadata": {},
     "output_type": "execute_result"
    }
   ],
   "source": [
    "import json\n",
    "json.loads(response_field[2].content)"
   ]
  },
  {
   "cell_type": "code",
   "execution_count": 269,
   "id": "fc2550fe-9be3-4a55-a50b-eb1badab212a",
   "metadata": {},
   "outputs": [
    {
     "data": {
      "text/plain": [
       "[HumanMessage(content='Write about AI-Powered SOC / autonomous soc problem domain, list startups that do that and raised capital', additional_kwargs={}, response_metadata={}, id='b43a1502-0de3-4fd4-8151-0b71a7d067ad'),\n",
       " AIMessage(content='', additional_kwargs={'tool_calls': [{'id': 'call_HUi1xDIqQuqpZdLooq02ZUyD', 'function': {'arguments': '{\"answer\":\"As organizations struggle to keep pace with the volume, velocity and sophistication of modern cyber-attacks, traditional Security Operations Centers (SOCs) have become overwhelmed by alert fatigue, talent shortages and manual processes. The AI-Powered or Autonomous SOC problem domain addresses these challenges by embedding machine learning, behavioral analytics and automated orchestration directly into the detection-to-response workflow. Such platforms continuously ingest telemetry from endpoints, networks and cloud workloads, applying anomaly detection and correlation engines to surface high-fidelity threats. Within seconds they can triage, prioritize and even execute containment actions—freeing security teams to focus on complex investigations.\\\\n\\\\nKey startups in this space that have secured venture capital include:  \\\\n• Darktrace (UK/USA) raised over $230M pre-IPO to commercialize its self-learning “Enterprise Immune System.”  \\\\n• Vectra AI (USA) has secured $350M+ to power its Cognito platform, combining AI-driven threat hunting with real-time incident response.  \\\\n• Arctic Wolf Networks (USA) raised $295M for its Concierge Security® operations service, blending managed SOC with AI-driven analytics.  \\\\n• Siemplify (USA/Israel) secured $80M prior to acquisition by Google Cloud—its SOAR-centered AutonomousSOC unifies alerts across tools.  \\\\n• Awake Security (USA) raised $70M before being acquired by Arista Networks—its network detection leverages AI to identify anomalous “living off the land” attacks.  \\\\n• D3 Security (USA) secured $44M to advance its SOAR platform that automates runbooks across triage, enrichment and containment.\\\\n\\\\nBy marrying AI-based detection models with automated playbooks and cross-tool orchestration, these autonomous SOC solutions drive down mean time to detection (MTTD) and mean time to response (MTTR), helping enterprises defend against advanced threats in an increasingly dynamic risk landscape.\",\"reflection\":{\"missing\":\"Deeper discussion of vendor differentiation (e.g., XDR vs. SOAR focus), metrics on ROI or efficacy, and challenges around false positives and model drift.\",\"unnecessary\":\"Long lists of minor players or acquisitions beyond the core autonomous SOC function, which could distract from the main technical capabilities.\"},\"search_string\":[\"AI-powered SOC startups funding raised capital\",\"autonomous SOC platform market analysis 2025\",\"AI SOAR vs XDR differentiation\"]}', 'name': 'AnswerQuestion'}, 'type': 'function'}], 'refusal': None}, response_metadata={'token_usage': {'completion_tokens': 1098, 'prompt_tokens': 216, 'total_tokens': 1314, 'completion_tokens_details': {'accepted_prediction_tokens': 0, 'audio_tokens': 0, 'reasoning_tokens': 576, 'rejected_prediction_tokens': 0}, 'prompt_tokens_details': {'audio_tokens': 0, 'cached_tokens': 0}}, 'model_name': 'o4-mini-2025-04-16', 'system_fingerprint': None, 'id': 'chatcmpl-BkRwecUQY0FViyohhWNYZ31TtQ9pM', 'service_tier': 'default', 'finish_reason': 'tool_calls', 'logprobs': None}, id='run--90f823f5-4b21-43d6-9431-1f99d5f954ae-0', tool_calls=[{'name': 'AnswerQuestion', 'args': {'answer': 'As organizations struggle to keep pace with the volume, velocity and sophistication of modern cyber-attacks, traditional Security Operations Centers (SOCs) have become overwhelmed by alert fatigue, talent shortages and manual processes. The AI-Powered or Autonomous SOC problem domain addresses these challenges by embedding machine learning, behavioral analytics and automated orchestration directly into the detection-to-response workflow. Such platforms continuously ingest telemetry from endpoints, networks and cloud workloads, applying anomaly detection and correlation engines to surface high-fidelity threats. Within seconds they can triage, prioritize and even execute containment actions—freeing security teams to focus on complex investigations.\\n\\nKey startups in this space that have secured venture capital include:  \\n• Darktrace (UK/USA) raised over $230M pre-IPO to commercialize its self-learning “Enterprise Immune System.”  \\n• Vectra AI (USA) has secured $350M+ to power its Cognito platform, combining AI-driven threat hunting with real-time incident response.  \\n• Arctic Wolf Networks (USA) raised $295M for its Concierge Security® operations service, blending managed SOC with AI-driven analytics.  \\n• Siemplify (USA/Israel) secured $80M prior to acquisition by Google Cloud—its SOAR-centered AutonomousSOC unifies alerts across tools.  \\n• Awake Security (USA) raised $70M before being acquired by Arista Networks—its network detection leverages AI to identify anomalous “living off the land” attacks.  \\n• D3 Security (USA) secured $44M to advance its SOAR platform that automates runbooks across triage, enrichment and containment.\\n\\nBy marrying AI-based detection models with automated playbooks and cross-tool orchestration, these autonomous SOC solutions drive down mean time to detection (MTTD) and mean time to response (MTTR), helping enterprises defend against advanced threats in an increasingly dynamic risk landscape.', 'reflection': {'missing': 'Deeper discussion of vendor differentiation (e.g., XDR vs. SOAR focus), metrics on ROI or efficacy, and challenges around false positives and model drift.', 'unnecessary': 'Long lists of minor players or acquisitions beyond the core autonomous SOC function, which could distract from the main technical capabilities.'}, 'search_string': ['AI-powered SOC startups funding raised capital', 'autonomous SOC platform market analysis 2025', 'AI SOAR vs XDR differentiation']}, 'id': 'call_HUi1xDIqQuqpZdLooq02ZUyD', 'type': 'tool_call'}], usage_metadata={'input_tokens': 216, 'output_tokens': 1098, 'total_tokens': 1314, 'input_token_details': {'audio': 0, 'cache_read': 0}, 'output_token_details': {'audio': 0, 'reasoning': 576}}),\n",
       " ToolMessage(content='[{\"query\": \"AI-powered SOC startups funding raised capital\", \"follow_up_questions\": null, \"answer\": null, \"images\": [], \"results\": [{\"title\": \"AI-Powered SOCs? Conifers.ai Lands $25M to Make It a Reality\", \"url\": \"https://justainews.com/companies/funding-news/conifers-ai-raises-25m/\", \"content\": \"Conifers.ai has raised $25 million in funding, a major milestone in its journey to enhance security operations centers (SOCs) with AI-powered technology.The investment comes from SYN Ventures, Picus Capital, and other strategic investors, who believe in the company\\'s vision for a smarter and more effective approach to cybersecurity.. Although the company has not disclosed its valuation, this\", \"score\": 0.90039873, \"raw_content\": null}, {\"title\": \"Intezer Raises $33M to Extend AI-Powered SOC Platform\", \"url\": \"https://www.securityweek.com/intezer-raises-33m-to-extend-ai-powered-soc-platform/\", \"content\": \"The company plans to use the new capital on R&D and to speed up growth in the emerging AI SOC category. Related: Intezer Documents Powerful \\'Lightning Framework\\' Linux Malware. Related: Intezer Raises $15 Million in Series B Funding Related: Radiant Snags $15 Million for AI-Powered SOC Technology Related: Reach Security Raises $20M to Help Manage Cybersecurity Product\", \"score\": 0.81875163, \"raw_content\": null}, {\"title\": \"Top 50 Investors Funding AI Startups in 2025 - Tech Startups\", \"url\": \"https://techstartups.com/2025/03/21/top-50-investors-funding-ai-startup-companies-in-2025/\", \"content\": \"**Funding Insight:** Thrive Capital made one of the boldest AI bets of the year by co-leading Databricks’ $10B Series J — one of the largest private AI rounds ever raised. **Funding Insight:** WCM Investment Management joined the Databricks Series J round as part of the institutional wave backing core AI platforms. **Funding Insight:** Premji Invest backed Hippocratic AI’s $141M Series B, adding a global dimension to the healthcare AI narrative. | 37 | **OpenAI Startup Fund** | Harvey (AI legal) | Participated in a $300 million round\\u200b | USA | Mar 2025 | | 44 | **Fidelity Investments** | xAI (Elon Musk’s AI startup) | Participated in $6 billion Series C\\u200b | USA | _Dec 2024 (cont.2025)_ |\", \"score\": 0.49377534, \"raw_content\": null}, {\"title\": \"Multiplier, founded by ex-Stripe exec, nabs $27.5M to fuel AI-powered ...\", \"url\": \"https://techcrunch.com/2025/06/18/multiplier-founded-by-ex-stripe-exec-nabs-27-5m-to-fuel-ai-powered-accounting-roll-ups/\", \"content\": \"The PE-style roll-up strategy has recently gained popularity among VCs, with investors such as General Catalyst, Elad Gil, Thrive, and Khosla Ventures backing startups that develop AI solutions\", \"score\": 0.39124367, \"raw_content\": null}, {\"title\": \"Startup Funding: Q4 2024 - Semiconductor Engineering\", \"url\": \"https://semiengineering.com/startup-funding-q4-2024/\", \"content\": \"*   Low Power - High Performance *   Power & Performance It also includes a dynamic thermal management solution to predict and adjust the cooling requirements of AI servers. Neuronova is developing ultra-low power processors that implement neurons and synapses as physical structures on silicon to emulate the brain directly at the hardware level for AI on battery-powered devices. Quantum Brilliance also offers a software development kit that includes high performance emulators for development and testing of quantum applications. *   Paul Egan on What’s Missing From Predictions *   Paul Karazuba on A Buyers Guide To An NPU *   Henley on A Buyers Guide To An NPU *   Ravi on What’s Next For Emulation *   AMA on Using Emulators For Power/Performance Tradeoffs\", \"score\": 0.21138462, \"raw_content\": null}], \"response_time\": 1.92}, {\"query\": \"autonomous SOC platform market analysis 2025\", \"follow_up_questions\": null, \"answer\": null, \"images\": [], \"results\": [{\"title\": \"Autonomous Vehicle SoC Chips Analysis 2025-2033: Unlocking Competitive ...\", \"url\": \"https://www.datainsightsmarket.com/reports/autonomous-vehicle-soc-chips-130366\", \"content\": \"The Autonomous Vehicle (AV) SoC chip market is experiencing explosive growth, driven by the increasing adoption of advanced driver-assistance systems (ADAS) and the burgeoning development of fully autonomous vehicles. The market, currently estimated at $8 billion in 2025, is projected to reach $30 billion by 2033, exhibiting a robust Compound Annual Growth Rate (CAGR) of approximately 15%\", \"score\": 0.91760606, \"raw_content\": null}, {\"title\": \"Autonomous Driving Soc Chip Market Report | Global Forecast From 2025 ...\", \"url\": \"https://dataintelo.com/report/autonomous-driving-soc-chip-market\", \"content\": \"The global market size for Autonomous Driving SoC (System on Chip) was estimated at USD 8.5 billion in 2023 and is projected to reach USD 42.3 billion by 2032, growing at a compound annual growth rate (CAGR) of 19.8% during the forecast period.\", \"score\": 0.8668671, \"raw_content\": null}, {\"title\": \"Automotive SoC Market Size, Share & Trends 2025 to 2035\", \"url\": \"https://www.futuremarketinsights.com/reports/automotive-soc-market\", \"content\": \"The automotive system-on-chip (SoC) market is expected to expand rapidly during the 2025 to 2035 timeframe, fueled by increasing proliferation of advanced driver-assistance systems (ADAS), connected automobiles, and electrification of vehicles. Increasing adoption of electric vehicles (EVs) and advanced driver-assistance systems (ADAS) in the automotive sector is also creating demand for high-performance automotive SoCs. EVs need these energy-efficient processors for their battery management systems (BMS), motor control, and real-time data processing. The USA market for automotive SoC is thriving on continuous integration of an advanced driver assistance systems scheme and the increasing adoption of electric vehicles. The automotive market of System-on-Chips (SoCs) for automobiles is highly competitive in the events of ADAS, electrification, and advanced connectable vehicles.\", \"score\": 0.6557114, \"raw_content\": null}, {\"title\": \"Autonomous Driving SoC Market Size | Analysis Report 2033\", \"url\": \"https://www.alliedmarketresearch.com/autonomous-driving-soc-market-A323750\", \"content\": \"The global autonomous driving soc market was valued at $36.8 billion in 2023, and is projected to reach $100.1 billion by 2033, growing at a CAGR of 10.6% from 2024 to 2033. An autonomous driving System-on-Chip (SoC) refers to a specialized integrated circuit designed to power and control various\", \"score\": 0.533714, \"raw_content\": null}, {\"title\": \"$205 Bn System-on-Chip (SoC) Market Analysis by Core Count, - GlobeNewswire\", \"url\": \"https://www.globenewswire.com/news-release/2025/04/17/3063259/28124/en/205-Bn-System-on-Chip-SoC-Market-Analysis-by-Core-Count-Core-Architecture-Device-Global-Forecast-to-2029.html\", \"content\": \"The System-on-Chip (SoC) market is projected to reach a value of USD 138.46 billion in 2024 and USD 205.97 billion by 2029, growing at a CAGR of 8.3% between 2024 and 2029\", \"score\": 0.4892356, \"raw_content\": null}], \"response_time\": 1.98}, {\"query\": \"AI SOAR vs XDR differentiation\", \"follow_up_questions\": null, \"answer\": null, \"images\": [], \"results\": [{\"title\": \"XDR vs SOAR: 6 Key Differences and How to Choose - cynet.com\", \"url\": \"https://www.cynet.com/xdr-security/xdr-vs-soar-6-key-differences-and-how-to-choose/\", \"content\": \"XDR vs. SOAR: The Key Differences . XDR and SOAR both help improve security operations, but they approach this goal differently. 1. Focus. XDR focuses on unifying security telemetry to provide an integrated approach to threat detection and response. It pulls data from across platforms and correlates it to detect threats that an individual\", \"score\": 0.8473754, \"raw_content\": null}, {\"title\": \"XDR vs. SOAR: Key Differences and Benefits - SentinelOne\", \"url\": \"https://www.sentinelone.com/cybersecurity-101/xdr/xdr-vs-soar/\", \"content\": \"With AI-powered, enterprise-wide cyber security, it enables organizations to detect, prevent, and respond to security threats at machine speed. ... Using XDR vs SOAR, or a combination depends on your security needs and deployment. XDR is perfect for bringing advanced threat detection and response to various layers, endpoints, networks, and\", \"score\": 0.79080546, \"raw_content\": null}, {\"title\": \"XDR vs SOAR: Key Differences, Benefits & Limitations\", \"url\": \"https://www.blinkops.com/blog/xdr-vs-soar\", \"content\": \"XDR vs SOAR: Key Differences. Even though both XDR and SOAR improve security operations, they do so in different ways and for different reasons. Below, we break down the key differences across various aspects to help you understand how each solution serves a unique role in modern cybersecurity.\", \"score\": 0.7872945, \"raw_content\": null}, {\"title\": \"SOAR vs XDR: 4 Key Differences and Using Them Together\", \"url\": \"https://www.exabeam.com/explainers/soar/soar-vs-xdr-4-key-differences-and-using-them-together/\", \"content\": \"In my experience, here are tips that can help you make better use of SOAR and XDR solutions: Leverage SOAR for after-action reviews: Use SOAR\\'s detailed post-incident documentation not only for compliance but to conduct structured after-action reviews.This practice helps identify bottlenecks in response workflows and ensures lessons learned from incidents are fed back into automated processes.\", \"score\": 0.6698534, \"raw_content\": null}, {\"title\": \"XDR vs. SIEM vs. SOAR: What\\'s the Difference? | CrowdStrike\", \"url\": \"https://www.crowdstrike.com/en-us/cybersecurity-101/next-gen-siem/xdr-vs-siem-vs-soar/\", \"content\": \"What are the key differences between SIEM, SOAR and XDR? SIEM is primarily a log collection tool intended to support compliance, data storage and analysis. Security analytics is a capability that has been largely bolted on to SIEM solutions and does not adequately identify threats without running a separate security analytic function on top of a huge data set.\", \"score\": 0.64719695, \"raw_content\": null}], \"response_time\": 2.15}]', name='AnswerQuestion', id='3f21d06a-19b4-40e2-b0fd-688c50ce386d', tool_call_id='call_HUi1xDIqQuqpZdLooq02ZUyD'),\n",
       " AIMessage(content='', additional_kwargs={'tool_calls': [{'id': 'call_9N40rzaFQ2QfuwFEtlMWeiXI', 'function': {'arguments': '{\"references\":[\"https://en.wikipedia.org/wiki/Darktrace\",\"https://www.securityweek.com/intezer-raises-33m-to-extend-ai-powered-soc-platform/\",\"https://justainews.com/companies/funding-news/conifers-ai-raises-25m/\",\"https://en.wikipedia.org/wiki/Vectra_AI\",\"https://en.wikipedia.org/wiki/Arctic_Wolf_Networks\"]}', 'name': 'ReviseAnswer'}, 'type': 'function'}], 'refusal': None}, response_metadata={'token_usage': {'completion_tokens': 1768, 'prompt_tokens': 3252, 'total_tokens': 5020, 'completion_tokens_details': {'accepted_prediction_tokens': 0, 'audio_tokens': 0, 'reasoning_tokens': 1664, 'rejected_prediction_tokens': 0}, 'prompt_tokens_details': {'audio_tokens': 0, 'cached_tokens': 0}}, 'model_name': 'o4-mini-2025-04-16', 'system_fingerprint': None, 'id': 'chatcmpl-BkRwqsvI1SWf3J5fukxURss6HaaH9', 'service_tier': 'default', 'finish_reason': 'tool_calls', 'logprobs': None}, id='run--5f3d095b-c31f-4bc3-a9f2-41682dbf7154-0', tool_calls=[{'name': 'ReviseAnswer', 'args': {'references': ['https://en.wikipedia.org/wiki/Darktrace', 'https://www.securityweek.com/intezer-raises-33m-to-extend-ai-powered-soc-platform/', 'https://justainews.com/companies/funding-news/conifers-ai-raises-25m/', 'https://en.wikipedia.org/wiki/Vectra_AI', 'https://en.wikipedia.org/wiki/Arctic_Wolf_Networks']}, 'id': 'call_9N40rzaFQ2QfuwFEtlMWeiXI', 'type': 'tool_call'}], usage_metadata={'input_tokens': 3252, 'output_tokens': 1768, 'total_tokens': 5020, 'input_token_details': {'audio': 0, 'cache_read': 0}, 'output_token_details': {'audio': 0, 'reasoning': 1664}}),\n",
       " ToolMessage(content=\"Error: 1 validation error for ReviseAnswer\\nsearch_string\\n  Field required [type=missing, input_value={'references': ['https://.../Arctic_Wolf_Networks']}, input_type=dict]\\n    For further information visit https://errors.pydantic.dev/2.11/v/missing\\n Please fix your mistakes.\", name='ReviseAnswer', id='b645ccc4-e363-477e-b8e5-badf3cf35d17', tool_call_id='call_9N40rzaFQ2QfuwFEtlMWeiXI', status='error'),\n",
       " AIMessage(content='', additional_kwargs={'tool_calls': [{'id': 'call_kExuXbMYGVY0FLNGh2RYdusv', 'function': {'arguments': '{\"references\":[\"https://en.wikipedia.org/wiki/Darktrace\",\"https://www.securityweek.com/intezer-raises-33m-to-extend-ai-powered-soc-platform/\",\"https://justainews.com/companies/funding-news/conifers-ai-raises-25m/\",\"https://en.wikipedia.org/wiki/Vectra_AI\",\"https://en.wikipedia.org/wiki/Arctic_Wolf_Networks\"]}', 'name': 'ReviseAnswer'}, 'type': 'function'}], 'refusal': None}, response_metadata={'token_usage': {'completion_tokens': 1064, 'prompt_tokens': 3432, 'total_tokens': 4496, 'completion_tokens_details': {'accepted_prediction_tokens': 0, 'audio_tokens': 0, 'reasoning_tokens': 960, 'rejected_prediction_tokens': 0}, 'prompt_tokens_details': {'audio_tokens': 0, 'cached_tokens': 0}}, 'model_name': 'o4-mini-2025-04-16', 'system_fingerprint': None, 'id': 'chatcmpl-BkRx5BSg9KT1MhFMiR3rDhSuPqymL', 'service_tier': 'default', 'finish_reason': 'tool_calls', 'logprobs': None}, id='run--79a89771-f4b9-41c5-9271-065b481d78e1-0', tool_calls=[{'name': 'ReviseAnswer', 'args': {'references': ['https://en.wikipedia.org/wiki/Darktrace', 'https://www.securityweek.com/intezer-raises-33m-to-extend-ai-powered-soc-platform/', 'https://justainews.com/companies/funding-news/conifers-ai-raises-25m/', 'https://en.wikipedia.org/wiki/Vectra_AI', 'https://en.wikipedia.org/wiki/Arctic_Wolf_Networks']}, 'id': 'call_kExuXbMYGVY0FLNGh2RYdusv', 'type': 'tool_call'}], usage_metadata={'input_tokens': 3432, 'output_tokens': 1064, 'total_tokens': 4496, 'input_token_details': {'audio': 0, 'cache_read': 0}, 'output_token_details': {'audio': 0, 'reasoning': 960}}),\n",
       " ToolMessage(content=\"Error: 1 validation error for ReviseAnswer\\nsearch_string\\n  Field required [type=missing, input_value={'references': ['https://.../Arctic_Wolf_Networks']}, input_type=dict]\\n    For further information visit https://errors.pydantic.dev/2.11/v/missing\\n Please fix your mistakes.\", name='ReviseAnswer', id='046c5b57-29b9-4630-8001-924c231a0d1d', tool_call_id='call_kExuXbMYGVY0FLNGh2RYdusv', status='error'),\n",
       " AIMessage(content='', additional_kwargs={'tool_calls': [{'id': 'call_QVOeHulcoZJq4YM4FndJmkRv', 'function': {'arguments': '{\"search_string\":[\"AI-powered SOC startups funding raised capital\",\"AI SOC autonomous SOC startups funding 2025\",\"Conifers.ai Intezer funding AI SOC\"]}', 'name': 'ReviseAnswer'}, 'type': 'function'}], 'refusal': None}, response_metadata={'token_usage': {'completion_tokens': 755, 'prompt_tokens': 3612, 'total_tokens': 4367, 'completion_tokens_details': {'accepted_prediction_tokens': 0, 'audio_tokens': 0, 'reasoning_tokens': 704, 'rejected_prediction_tokens': 0}, 'prompt_tokens_details': {'audio_tokens': 0, 'cached_tokens': 0}}, 'model_name': 'o4-mini-2025-04-16', 'system_fingerprint': None, 'id': 'chatcmpl-BkRxHEOIYPxeMvLaCh4Jznaq3KaCE', 'service_tier': 'default', 'finish_reason': 'tool_calls', 'logprobs': None}, id='run--fa4d3db6-0827-452f-8774-5a906822ac91-0', tool_calls=[{'name': 'ReviseAnswer', 'args': {'search_string': ['AI-powered SOC startups funding raised capital', 'AI SOC autonomous SOC startups funding 2025', 'Conifers.ai Intezer funding AI SOC']}, 'id': 'call_QVOeHulcoZJq4YM4FndJmkRv', 'type': 'tool_call'}], usage_metadata={'input_tokens': 3612, 'output_tokens': 755, 'total_tokens': 4367, 'input_token_details': {'audio': 0, 'cache_read': 0}, 'output_token_details': {'audio': 0, 'reasoning': 704}})]"
      ]
     },
     "execution_count": 269,
     "metadata": {},
     "output_type": "execute_result"
    }
   ],
   "source": [
    "response_field"
   ]
  },
  {
   "cell_type": "code",
   "execution_count": null,
   "id": "413e34bd-4e2b-42de-8d0e-0517c3f7cc61",
   "metadata": {},
   "outputs": [],
   "source": []
  }
 ],
 "metadata": {
  "kernelspec": {
   "display_name": "Python 3 (ipykernel)",
   "language": "python",
   "name": "python3"
  },
  "language_info": {
   "codemirror_mode": {
    "name": "ipython",
    "version": 3
   },
   "file_extension": ".py",
   "mimetype": "text/x-python",
   "name": "python",
   "nbconvert_exporter": "python",
   "pygments_lexer": "ipython3",
   "version": "3.13.3"
  }
 },
 "nbformat": 4,
 "nbformat_minor": 5
}
