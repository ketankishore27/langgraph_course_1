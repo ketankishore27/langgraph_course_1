from langchain_core.prompts.chat import ChatPromptTemplate, MessagePlaceholder
from langchain_openai import ChatOpenAI



